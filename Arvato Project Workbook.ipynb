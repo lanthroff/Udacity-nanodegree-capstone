{
 "cells": [
  {
   "cell_type": "markdown",
   "metadata": {},
   "source": [
    "# Capstone Project: Create a Customer Segmentation Report for Arvato Financial Services\n",
    "\n",
    "In this project, you will analyze demographics data for customers of a mail-order sales company in Germany, comparing it against demographics information for the general population. You'll use unsupervised learning techniques to perform customer segmentation, identifying the parts of the population that best describe the core customer base of the company. Then, you'll apply what you've learned on a third dataset with demographics information for targets of a marketing campaign for the company, and use a model to predict which individuals are most likely to convert into becoming customers for the company. The data that you will use has been provided by our partners at Bertelsmann Arvato Analytics, and represents a real-life data science task.\n",
    "\n",
    "If you completed the first term of this program, you will be familiar with the first part of this project, from the unsupervised learning project. The versions of those two datasets used in this project will include many more features and has not been pre-cleaned. You are also free to choose whatever approach you'd like to analyzing the data rather than follow pre-determined steps. In your work on this project, make sure that you carefully document your steps and decisions, since your main deliverable for this project will be a blog post reporting your findings."
   ]
  },
  {
   "cell_type": "code",
   "execution_count": 1,
   "metadata": {},
   "outputs": [],
   "source": [
    "# import libraries here; add more as necessary\n",
    "import numpy as np\n",
    "import pandas as pd\n",
    "import matplotlib.pyplot as plt\n",
    "import matplotlib.cm as cm\n",
    "import seaborn as sns\n",
    "import skopt\n",
    "from skopt import BayesSearchCV\n",
    "\n",
    "from sklearn.cluster import KMeans\n",
    "from sklearn.svm import SVC\n",
    "from sklearn.preprocessing import MinMaxScaler, OneHotEncoder, LabelEncoder\n",
    "from sklearn.decomposition import PCA\n",
    "from sklearn.utils.multiclass import unique_labels\n",
    "from sklearn.model_selection import train_test_split, StratifiedKFold, cross_val_score, learning_curve\n",
    "from sklearn.linear_model import LogisticRegression\n",
    "from sklearn.neural_network import MLPClassifier\n",
    "from sklearn.ensemble import ExtraTreesClassifier, RandomForestClassifier,  GradientBoostingClassifier\n",
    "from sklearn.metrics import roc_auc_score, recall_score\n",
    "\n",
    "import lightgbm as lgb\n",
    "import xgboost as xgb\n",
    "\n",
    "\n",
    "\n",
    "# magic word for producing visualizations in notebook\n",
    "%matplotlib inline"
   ]
  },
  {
   "cell_type": "markdown",
   "metadata": {},
   "source": [
    "## Part 0: Get to Know the Data\n",
    "\n",
    "There are four data files associated with this project:\n",
    "\n",
    "- `Udacity_AZDIAS_052018.csv`: Demographics data for the general population of Germany; 891 211 persons (rows) x 366 features (columns).\n",
    "- `Udacity_CUSTOMERS_052018.csv`: Demographics data for customers of a mail-order company; 191 652 persons (rows) x 369 features (columns).\n",
    "- `Udacity_MAILOUT_052018_TRAIN.csv`: Demographics data for individuals who were targets of a marketing campaign; 42 982 persons (rows) x 367 (columns).\n",
    "- `Udacity_MAILOUT_052018_TEST.csv`: Demographics data for individuals who were targets of a marketing campaign; 42 833 persons (rows) x 366 (columns).\n",
    "\n",
    "Each row of the demographics files represents a single person, but also includes information outside of individuals, including information about their household, building, and neighborhood. Use the information from the first two files to figure out how customers (\"CUSTOMERS\") are similar to or differ from the general population at large (\"AZDIAS\"), then use your analysis to make predictions on the other two files (\"MAILOUT\"), predicting which recipients are most likely to become a customer for the mail-order company.\n",
    "\n",
    "The \"CUSTOMERS\" file contains three extra columns ('CUSTOMER_GROUP', 'ONLINE_PURCHASE', and 'PRODUCT_GROUP'), which provide broad information about the customers depicted in the file. The original \"MAILOUT\" file included one additional column, \"RESPONSE\", which indicated whether or not each recipient became a customer of the company. For the \"TRAIN\" subset, this column has been retained, but in the \"TEST\" subset it has been removed; it is against that withheld column that your final predictions will be assessed in the Kaggle competition.\n",
    "\n",
    "Otherwise, all of the remaining columns are the same between the three data files. For more information about the columns depicted in the files, you can refer to two Excel spreadsheets provided in the workspace. [One of them](./DIAS Information Levels - Attributes 2017.xlsx) is a top-level list of attributes and descriptions, organized by informational category. [The other](./DIAS Attributes - Values 2017.xlsx) is a detailed mapping of data values for each feature in alphabetical order.\n",
    "\n",
    "In the below cell, we've provided some initial code to load in the first two datasets. Note for all of the `.csv` data files in this project that they're semicolon (`;`) delimited, so an additional argument in the [`read_csv()`](https://pandas.pydata.org/pandas-docs/stable/generated/pandas.read_csv.html) call has been included to read in the data properly. Also, considering the size of the datasets, it may take some time for them to load completely.\n",
    "\n",
    "You'll notice when the data is loaded in that a warning message will immediately pop up. Before you really start digging into the modeling and analysis, you're going to need to perform some cleaning. Take some time to browse the structure of the data and look over the informational spreadsheets to understand the data values. Make some decisions on which features to keep, which features to drop, and if any revisions need to be made on data formats. It'll be a good idea to create a function with pre-processing steps, since you'll need to clean all of the datasets before you work with them."
   ]
  },
  {
   "cell_type": "code",
   "execution_count": 4,
   "metadata": {},
   "outputs": [
    {
     "name": "stderr",
     "output_type": "stream",
     "text": [
      "c:\\users\\lanth\\appdata\\local\\programs\\python\\python37\\lib\\site-packages\\IPython\\core\\interactiveshell.py:3057: DtypeWarning: Columns (19,20) have mixed types. Specify dtype option on import or set low_memory=False.\n",
      "  interactivity=interactivity, compiler=compiler, result=result)\n"
     ]
    }
   ],
   "source": [
    "# load in the data\n",
    "azdias = pd.read_csv('azdias.csv', sep=',')"
   ]
  },
  {
   "cell_type": "code",
   "execution_count": 5,
   "metadata": {},
   "outputs": [],
   "source": [
    "customers = pd.read_csv('customers.csv', sep=',')"
   ]
  },
  {
   "cell_type": "code",
   "execution_count": 6,
   "metadata": {},
   "outputs": [
    {
     "name": "stdout",
     "output_type": "stream",
     "text": [
      "Index(['CAMEO_DEUG_2015', 'CAMEO_INTL_2015'], dtype='object')\n"
     ]
    }
   ],
   "source": [
    "print(azdias.iloc[:,19:21].columns)"
   ]
  },
  {
   "cell_type": "markdown",
   "metadata": {},
   "source": [
    "### So we see that the problem comes from 'CAMEO_DEUG_2015' and 'CAMEO_INTL_2015' columns,\n",
    "### we will investigate a little more."
   ]
  },
  {
   "cell_type": "code",
   "execution_count": 7,
   "metadata": {},
   "outputs": [
    {
     "data": {
      "text/plain": [
       "array([nan, 8.0, 4.0, 2.0, 6.0, 1.0, 9.0, 5.0, 7.0, 3.0, '4', '3', '7',\n",
       "       '2', '8', '9', '6', '5', '1', 'X'], dtype=object)"
      ]
     },
     "execution_count": 7,
     "metadata": {},
     "output_type": "execute_result"
    }
   ],
   "source": [
    "azdias.CAMEO_DEUG_2015.unique()"
   ]
  },
  {
   "cell_type": "code",
   "execution_count": 8,
   "metadata": {},
   "outputs": [
    {
     "data": {
      "text/plain": [
       "array([nan, 51.0, 24.0, 12.0, 43.0, 54.0, 22.0, 14.0, 13.0, 15.0, 33.0,\n",
       "       41.0, 34.0, 55.0, 25.0, 23.0, 31.0, 52.0, 35.0, 45.0, 44.0, 32.0,\n",
       "       '22', '24', '41', '12', '54', '51', '44', '35', '23', '25', '14',\n",
       "       '34', '52', '55', '31', '32', '15', '13', '43', '33', '45', 'XX'],\n",
       "      dtype=object)"
      ]
     },
     "execution_count": 8,
     "metadata": {},
     "output_type": "execute_result"
    }
   ],
   "source": [
    "azdias.CAMEO_INTL_2015.unique()"
   ]
  },
  {
   "cell_type": "markdown",
   "metadata": {},
   "source": [
    "### We can see that there are ints , floats and strings \n",
    "### We could convert everthing to float after we replace the 'X' and 'XX' with np.nan"
   ]
  },
  {
   "cell_type": "code",
   "execution_count": 2,
   "metadata": {},
   "outputs": [],
   "source": [
    "def cameo_fix(df):\n",
    "    '''\n",
    "    Fix the X and XX in cameo columns by replacing it with nan\n",
    "    Args\n",
    "        df (df): demographic dataframe\n",
    "    returns \n",
    "        (df): dataframe with X or XX replaced with nan\n",
    "    '''\n",
    "\n",
    "    cols = ['CAMEO_DEUG_2015', 'CAMEO_INTL_2015']\n",
    "    df[cols] = df[cols].replace({'XX': np.nan, 'X':np.nan})\n",
    "    df[cols] = df[cols].astype(float)\n",
    "       \n",
    "    return df"
   ]
  },
  {
   "cell_type": "code",
   "execution_count": 10,
   "metadata": {},
   "outputs": [],
   "source": [
    "#Applying the fix to azdias and customers dataframes\n",
    "\n",
    "azdias = cameo_fix(azdias)\n",
    "customers = cameo_fix(customers)"
   ]
  },
  {
   "cell_type": "code",
   "execution_count": 11,
   "metadata": {},
   "outputs": [
    {
     "data": {
      "text/plain": [
       "array([nan,  8.,  4.,  2.,  6.,  1.,  9.,  5.,  7.,  3.])"
      ]
     },
     "execution_count": 11,
     "metadata": {},
     "output_type": "execute_result"
    }
   ],
   "source": [
    "azdias.CAMEO_DEUG_2015.unique()"
   ]
  },
  {
   "cell_type": "code",
   "execution_count": 12,
   "metadata": {},
   "outputs": [
    {
     "data": {
      "text/plain": [
       "array([nan, 51., 24., 12., 43., 54., 22., 14., 13., 15., 33., 41., 34.,\n",
       "       55., 25., 23., 31., 52., 35., 45., 44., 32.])"
      ]
     },
     "execution_count": 12,
     "metadata": {},
     "output_type": "execute_result"
    }
   ],
   "source": [
    "azdias.CAMEO_INTL_2015.unique()"
   ]
  },
  {
   "cell_type": "markdown",
   "metadata": {},
   "source": [
    "## Difference between datasets\n",
    "\n",
    "The azdias dataset don't have 'PRODUCT_GROUP', 'CUSTOMER_GROUP' and 'ONLINE_PURCHASE' "
   ]
  },
  {
   "cell_type": "code",
   "execution_count": 13,
   "metadata": {},
   "outputs": [],
   "source": [
    "#Dropping 'PRODUCT_GROUP', 'CUSTOMER_GROUP' and 'ONLINE_PURCHASE' from customers dataframe\n",
    "\n",
    "customers = customers.drop(['CUSTOMER_GROUP', 'ONLINE_PURCHASE', 'PRODUCT_GROUP'], inplace=False, axis=1)"
   ]
  },
  {
   "cell_type": "code",
   "execution_count": 14,
   "metadata": {},
   "outputs": [
    {
     "data": {
      "text/plain": [
       "[]"
      ]
     },
     "execution_count": 14,
     "metadata": {},
     "output_type": "execute_result"
    }
   ],
   "source": [
    "list(set(azdias.columns) - set(customers.columns))"
   ]
  },
  {
   "cell_type": "code",
   "execution_count": 15,
   "metadata": {},
   "outputs": [
    {
     "data": {
      "text/plain": [
       "[]"
      ]
     },
     "execution_count": 15,
     "metadata": {},
     "output_type": "execute_result"
    }
   ],
   "source": [
    "list(set(customers.columns) - set(azdias.columns))"
   ]
  },
  {
   "cell_type": "code",
   "execution_count": 3,
   "metadata": {},
   "outputs": [],
   "source": [
    "# creating a function to determine percentage of missing values\n",
    "def missing_pct(df):\n",
    "    '''\n",
    "    Calculates the percentage of missing values per columns in\n",
    "    a dataframe\n",
    "    \n",
    "    Args \n",
    "        df (df): dataframe\n",
    "    return \n",
    "        missing_df (df): \n",
    "    '''\n",
    "    missing = df.isnull().sum()* 100/len(df)\n",
    "    missing_df = pd.DataFrame({'column_name': df.columns,\n",
    "                                 'percent_missing': missing})\n",
    "    \n",
    "    return missing_df"
   ]
  },
  {
   "cell_type": "code",
   "execution_count": 17,
   "metadata": {},
   "outputs": [],
   "source": [
    "azdias_missing = missing_pct(azdias)"
   ]
  },
  {
   "cell_type": "code",
   "execution_count": 18,
   "metadata": {},
   "outputs": [
    {
     "data": {
      "text/html": [
       "<div>\n",
       "<style scoped>\n",
       "    .dataframe tbody tr th:only-of-type {\n",
       "        vertical-align: middle;\n",
       "    }\n",
       "\n",
       "    .dataframe tbody tr th {\n",
       "        vertical-align: top;\n",
       "    }\n",
       "\n",
       "    .dataframe thead th {\n",
       "        text-align: right;\n",
       "    }\n",
       "</style>\n",
       "<table border=\"1\" class=\"dataframe\">\n",
       "  <thead>\n",
       "    <tr style=\"text-align: right;\">\n",
       "      <th></th>\n",
       "      <th>column_name</th>\n",
       "      <th>percent_missing</th>\n",
       "    </tr>\n",
       "  </thead>\n",
       "  <tbody>\n",
       "    <tr>\n",
       "      <th>Unnamed: 0</th>\n",
       "      <td>Unnamed: 0</td>\n",
       "      <td>0.000000</td>\n",
       "    </tr>\n",
       "    <tr>\n",
       "      <th>LNR</th>\n",
       "      <td>LNR</td>\n",
       "      <td>0.000000</td>\n",
       "    </tr>\n",
       "    <tr>\n",
       "      <th>AGER_TYP</th>\n",
       "      <td>AGER_TYP</td>\n",
       "      <td>0.000000</td>\n",
       "    </tr>\n",
       "    <tr>\n",
       "      <th>AKT_DAT_KL</th>\n",
       "      <td>AKT_DAT_KL</td>\n",
       "      <td>8.247000</td>\n",
       "    </tr>\n",
       "    <tr>\n",
       "      <th>ALTER_HH</th>\n",
       "      <td>ALTER_HH</td>\n",
       "      <td>8.247000</td>\n",
       "    </tr>\n",
       "    <tr>\n",
       "      <th>ALTER_KIND1</th>\n",
       "      <td>ALTER_KIND1</td>\n",
       "      <td>90.904837</td>\n",
       "    </tr>\n",
       "    <tr>\n",
       "      <th>ALTER_KIND2</th>\n",
       "      <td>ALTER_KIND2</td>\n",
       "      <td>96.690047</td>\n",
       "    </tr>\n",
       "    <tr>\n",
       "      <th>ALTER_KIND3</th>\n",
       "      <td>ALTER_KIND3</td>\n",
       "      <td>99.307691</td>\n",
       "    </tr>\n",
       "    <tr>\n",
       "      <th>ALTER_KIND4</th>\n",
       "      <td>ALTER_KIND4</td>\n",
       "      <td>99.864792</td>\n",
       "    </tr>\n",
       "    <tr>\n",
       "      <th>ALTERSKATEGORIE_FEIN</th>\n",
       "      <td>ALTERSKATEGORIE_FEIN</td>\n",
       "      <td>29.504130</td>\n",
       "    </tr>\n",
       "    <tr>\n",
       "      <th>ANZ_HAUSHALTE_AKTIV</th>\n",
       "      <td>ANZ_HAUSHALTE_AKTIV</td>\n",
       "      <td>10.451729</td>\n",
       "    </tr>\n",
       "    <tr>\n",
       "      <th>ANZ_HH_TITEL</th>\n",
       "      <td>ANZ_HH_TITEL</td>\n",
       "      <td>10.884842</td>\n",
       "    </tr>\n",
       "    <tr>\n",
       "      <th>ANZ_KINDER</th>\n",
       "      <td>ANZ_KINDER</td>\n",
       "      <td>8.247000</td>\n",
       "    </tr>\n",
       "    <tr>\n",
       "      <th>ANZ_PERSONEN</th>\n",
       "      <td>ANZ_PERSONEN</td>\n",
       "      <td>8.247000</td>\n",
       "    </tr>\n",
       "    <tr>\n",
       "      <th>ANZ_STATISTISCHE_HAUSHALTE</th>\n",
       "      <td>ANZ_STATISTISCHE_HAUSHALTE</td>\n",
       "      <td>10.451729</td>\n",
       "    </tr>\n",
       "    <tr>\n",
       "      <th>ANZ_TITEL</th>\n",
       "      <td>ANZ_TITEL</td>\n",
       "      <td>8.247000</td>\n",
       "    </tr>\n",
       "    <tr>\n",
       "      <th>ARBEIT</th>\n",
       "      <td>ARBEIT</td>\n",
       "      <td>10.908181</td>\n",
       "    </tr>\n",
       "    <tr>\n",
       "      <th>BALLRAUM</th>\n",
       "      <td>BALLRAUM</td>\n",
       "      <td>10.518154</td>\n",
       "    </tr>\n",
       "    <tr>\n",
       "      <th>CAMEO_DEU_2015</th>\n",
       "      <td>CAMEO_DEU_2015</td>\n",
       "      <td>11.106000</td>\n",
       "    </tr>\n",
       "    <tr>\n",
       "      <th>CAMEO_DEUG_2015</th>\n",
       "      <td>CAMEO_DEUG_2015</td>\n",
       "      <td>11.147852</td>\n",
       "    </tr>\n",
       "    <tr>\n",
       "      <th>CAMEO_INTL_2015</th>\n",
       "      <td>CAMEO_INTL_2015</td>\n",
       "      <td>11.147852</td>\n",
       "    </tr>\n",
       "    <tr>\n",
       "      <th>CJT_GESAMTTYP</th>\n",
       "      <td>CJT_GESAMTTYP</td>\n",
       "      <td>0.544646</td>\n",
       "    </tr>\n",
       "    <tr>\n",
       "      <th>CJT_KATALOGNUTZER</th>\n",
       "      <td>CJT_KATALOGNUTZER</td>\n",
       "      <td>0.544646</td>\n",
       "    </tr>\n",
       "    <tr>\n",
       "      <th>CJT_TYP_1</th>\n",
       "      <td>CJT_TYP_1</td>\n",
       "      <td>0.544646</td>\n",
       "    </tr>\n",
       "    <tr>\n",
       "      <th>CJT_TYP_2</th>\n",
       "      <td>CJT_TYP_2</td>\n",
       "      <td>0.544646</td>\n",
       "    </tr>\n",
       "    <tr>\n",
       "      <th>CJT_TYP_3</th>\n",
       "      <td>CJT_TYP_3</td>\n",
       "      <td>0.544646</td>\n",
       "    </tr>\n",
       "    <tr>\n",
       "      <th>CJT_TYP_4</th>\n",
       "      <td>CJT_TYP_4</td>\n",
       "      <td>0.544646</td>\n",
       "    </tr>\n",
       "    <tr>\n",
       "      <th>CJT_TYP_5</th>\n",
       "      <td>CJT_TYP_5</td>\n",
       "      <td>0.544646</td>\n",
       "    </tr>\n",
       "    <tr>\n",
       "      <th>CJT_TYP_6</th>\n",
       "      <td>CJT_TYP_6</td>\n",
       "      <td>0.544646</td>\n",
       "    </tr>\n",
       "    <tr>\n",
       "      <th>D19_BANKEN_ANZ_12</th>\n",
       "      <td>D19_BANKEN_ANZ_12</td>\n",
       "      <td>0.000000</td>\n",
       "    </tr>\n",
       "    <tr>\n",
       "      <th>...</th>\n",
       "      <td>...</td>\n",
       "      <td>...</td>\n",
       "    </tr>\n",
       "    <tr>\n",
       "      <th>SEMIO_KRIT</th>\n",
       "      <td>SEMIO_KRIT</td>\n",
       "      <td>0.000000</td>\n",
       "    </tr>\n",
       "    <tr>\n",
       "      <th>SEMIO_KULT</th>\n",
       "      <td>SEMIO_KULT</td>\n",
       "      <td>0.000000</td>\n",
       "    </tr>\n",
       "    <tr>\n",
       "      <th>SEMIO_LUST</th>\n",
       "      <td>SEMIO_LUST</td>\n",
       "      <td>0.000000</td>\n",
       "    </tr>\n",
       "    <tr>\n",
       "      <th>SEMIO_MAT</th>\n",
       "      <td>SEMIO_MAT</td>\n",
       "      <td>0.000000</td>\n",
       "    </tr>\n",
       "    <tr>\n",
       "      <th>SEMIO_PFLICHT</th>\n",
       "      <td>SEMIO_PFLICHT</td>\n",
       "      <td>0.000000</td>\n",
       "    </tr>\n",
       "    <tr>\n",
       "      <th>SEMIO_RAT</th>\n",
       "      <td>SEMIO_RAT</td>\n",
       "      <td>0.000000</td>\n",
       "    </tr>\n",
       "    <tr>\n",
       "      <th>SEMIO_REL</th>\n",
       "      <td>SEMIO_REL</td>\n",
       "      <td>0.000000</td>\n",
       "    </tr>\n",
       "    <tr>\n",
       "      <th>SEMIO_SOZ</th>\n",
       "      <td>SEMIO_SOZ</td>\n",
       "      <td>0.000000</td>\n",
       "    </tr>\n",
       "    <tr>\n",
       "      <th>SEMIO_TRADV</th>\n",
       "      <td>SEMIO_TRADV</td>\n",
       "      <td>0.000000</td>\n",
       "    </tr>\n",
       "    <tr>\n",
       "      <th>SEMIO_VERT</th>\n",
       "      <td>SEMIO_VERT</td>\n",
       "      <td>0.000000</td>\n",
       "    </tr>\n",
       "    <tr>\n",
       "      <th>SHOPPER_TYP</th>\n",
       "      <td>SHOPPER_TYP</td>\n",
       "      <td>0.000000</td>\n",
       "    </tr>\n",
       "    <tr>\n",
       "      <th>SOHO_KZ</th>\n",
       "      <td>SOHO_KZ</td>\n",
       "      <td>8.247000</td>\n",
       "    </tr>\n",
       "    <tr>\n",
       "      <th>STRUKTURTYP</th>\n",
       "      <td>STRUKTURTYP</td>\n",
       "      <td>10.914689</td>\n",
       "    </tr>\n",
       "    <tr>\n",
       "      <th>TITEL_KZ</th>\n",
       "      <td>TITEL_KZ</td>\n",
       "      <td>8.247000</td>\n",
       "    </tr>\n",
       "    <tr>\n",
       "      <th>UMFELD_ALT</th>\n",
       "      <td>UMFELD_ALT</td>\n",
       "      <td>10.972138</td>\n",
       "    </tr>\n",
       "    <tr>\n",
       "      <th>UMFELD_JUNG</th>\n",
       "      <td>UMFELD_JUNG</td>\n",
       "      <td>10.972138</td>\n",
       "    </tr>\n",
       "    <tr>\n",
       "      <th>UNGLEICHENN_FLAG</th>\n",
       "      <td>UNGLEICHENN_FLAG</td>\n",
       "      <td>8.247000</td>\n",
       "    </tr>\n",
       "    <tr>\n",
       "      <th>VERDICHTUNGSRAUM</th>\n",
       "      <td>VERDICHTUNGSRAUM</td>\n",
       "      <td>10.914689</td>\n",
       "    </tr>\n",
       "    <tr>\n",
       "      <th>VERS_TYP</th>\n",
       "      <td>VERS_TYP</td>\n",
       "      <td>0.000000</td>\n",
       "    </tr>\n",
       "    <tr>\n",
       "      <th>VHA</th>\n",
       "      <td>VHA</td>\n",
       "      <td>8.247000</td>\n",
       "    </tr>\n",
       "    <tr>\n",
       "      <th>VHN</th>\n",
       "      <td>VHN</td>\n",
       "      <td>13.598872</td>\n",
       "    </tr>\n",
       "    <tr>\n",
       "      <th>VK_DHT4A</th>\n",
       "      <td>VK_DHT4A</td>\n",
       "      <td>8.518314</td>\n",
       "    </tr>\n",
       "    <tr>\n",
       "      <th>VK_DISTANZ</th>\n",
       "      <td>VK_DISTANZ</td>\n",
       "      <td>8.518314</td>\n",
       "    </tr>\n",
       "    <tr>\n",
       "      <th>VK_ZG11</th>\n",
       "      <td>VK_ZG11</td>\n",
       "      <td>8.518314</td>\n",
       "    </tr>\n",
       "    <tr>\n",
       "      <th>W_KEIT_KIND_HH</th>\n",
       "      <td>W_KEIT_KIND_HH</td>\n",
       "      <td>12.073549</td>\n",
       "    </tr>\n",
       "    <tr>\n",
       "      <th>WOHNDAUER_2008</th>\n",
       "      <td>WOHNDAUER_2008</td>\n",
       "      <td>8.247000</td>\n",
       "    </tr>\n",
       "    <tr>\n",
       "      <th>WOHNLAGE</th>\n",
       "      <td>WOHNLAGE</td>\n",
       "      <td>10.451729</td>\n",
       "    </tr>\n",
       "    <tr>\n",
       "      <th>ZABEOTYP</th>\n",
       "      <td>ZABEOTYP</td>\n",
       "      <td>0.000000</td>\n",
       "    </tr>\n",
       "    <tr>\n",
       "      <th>ANREDE_KZ</th>\n",
       "      <td>ANREDE_KZ</td>\n",
       "      <td>0.000000</td>\n",
       "    </tr>\n",
       "    <tr>\n",
       "      <th>ALTERSKATEGORIE_GROB</th>\n",
       "      <td>ALTERSKATEGORIE_GROB</td>\n",
       "      <td>0.000000</td>\n",
       "    </tr>\n",
       "  </tbody>\n",
       "</table>\n",
       "<p>367 rows × 2 columns</p>\n",
       "</div>"
      ],
      "text/plain": [
       "                                           column_name  percent_missing\n",
       "Unnamed: 0                                  Unnamed: 0         0.000000\n",
       "LNR                                                LNR         0.000000\n",
       "AGER_TYP                                      AGER_TYP         0.000000\n",
       "AKT_DAT_KL                                  AKT_DAT_KL         8.247000\n",
       "ALTER_HH                                      ALTER_HH         8.247000\n",
       "ALTER_KIND1                                ALTER_KIND1        90.904837\n",
       "ALTER_KIND2                                ALTER_KIND2        96.690047\n",
       "ALTER_KIND3                                ALTER_KIND3        99.307691\n",
       "ALTER_KIND4                                ALTER_KIND4        99.864792\n",
       "ALTERSKATEGORIE_FEIN              ALTERSKATEGORIE_FEIN        29.504130\n",
       "ANZ_HAUSHALTE_AKTIV                ANZ_HAUSHALTE_AKTIV        10.451729\n",
       "ANZ_HH_TITEL                              ANZ_HH_TITEL        10.884842\n",
       "ANZ_KINDER                                  ANZ_KINDER         8.247000\n",
       "ANZ_PERSONEN                              ANZ_PERSONEN         8.247000\n",
       "ANZ_STATISTISCHE_HAUSHALTE  ANZ_STATISTISCHE_HAUSHALTE        10.451729\n",
       "ANZ_TITEL                                    ANZ_TITEL         8.247000\n",
       "ARBEIT                                          ARBEIT        10.908181\n",
       "BALLRAUM                                      BALLRAUM        10.518154\n",
       "CAMEO_DEU_2015                          CAMEO_DEU_2015        11.106000\n",
       "CAMEO_DEUG_2015                        CAMEO_DEUG_2015        11.147852\n",
       "CAMEO_INTL_2015                        CAMEO_INTL_2015        11.147852\n",
       "CJT_GESAMTTYP                            CJT_GESAMTTYP         0.544646\n",
       "CJT_KATALOGNUTZER                    CJT_KATALOGNUTZER         0.544646\n",
       "CJT_TYP_1                                    CJT_TYP_1         0.544646\n",
       "CJT_TYP_2                                    CJT_TYP_2         0.544646\n",
       "CJT_TYP_3                                    CJT_TYP_3         0.544646\n",
       "CJT_TYP_4                                    CJT_TYP_4         0.544646\n",
       "CJT_TYP_5                                    CJT_TYP_5         0.544646\n",
       "CJT_TYP_6                                    CJT_TYP_6         0.544646\n",
       "D19_BANKEN_ANZ_12                    D19_BANKEN_ANZ_12         0.000000\n",
       "...                                                ...              ...\n",
       "SEMIO_KRIT                                  SEMIO_KRIT         0.000000\n",
       "SEMIO_KULT                                  SEMIO_KULT         0.000000\n",
       "SEMIO_LUST                                  SEMIO_LUST         0.000000\n",
       "SEMIO_MAT                                    SEMIO_MAT         0.000000\n",
       "SEMIO_PFLICHT                            SEMIO_PFLICHT         0.000000\n",
       "SEMIO_RAT                                    SEMIO_RAT         0.000000\n",
       "SEMIO_REL                                    SEMIO_REL         0.000000\n",
       "SEMIO_SOZ                                    SEMIO_SOZ         0.000000\n",
       "SEMIO_TRADV                                SEMIO_TRADV         0.000000\n",
       "SEMIO_VERT                                  SEMIO_VERT         0.000000\n",
       "SHOPPER_TYP                                SHOPPER_TYP         0.000000\n",
       "SOHO_KZ                                        SOHO_KZ         8.247000\n",
       "STRUKTURTYP                                STRUKTURTYP        10.914689\n",
       "TITEL_KZ                                      TITEL_KZ         8.247000\n",
       "UMFELD_ALT                                  UMFELD_ALT        10.972138\n",
       "UMFELD_JUNG                                UMFELD_JUNG        10.972138\n",
       "UNGLEICHENN_FLAG                      UNGLEICHENN_FLAG         8.247000\n",
       "VERDICHTUNGSRAUM                      VERDICHTUNGSRAUM        10.914689\n",
       "VERS_TYP                                      VERS_TYP         0.000000\n",
       "VHA                                                VHA         8.247000\n",
       "VHN                                                VHN        13.598872\n",
       "VK_DHT4A                                      VK_DHT4A         8.518314\n",
       "VK_DISTANZ                                  VK_DISTANZ         8.518314\n",
       "VK_ZG11                                        VK_ZG11         8.518314\n",
       "W_KEIT_KIND_HH                          W_KEIT_KIND_HH        12.073549\n",
       "WOHNDAUER_2008                          WOHNDAUER_2008         8.247000\n",
       "WOHNLAGE                                      WOHNLAGE        10.451729\n",
       "ZABEOTYP                                      ZABEOTYP         0.000000\n",
       "ANREDE_KZ                                    ANREDE_KZ         0.000000\n",
       "ALTERSKATEGORIE_GROB              ALTERSKATEGORIE_GROB         0.000000\n",
       "\n",
       "[367 rows x 2 columns]"
      ]
     },
     "execution_count": 18,
     "metadata": {},
     "output_type": "execute_result"
    }
   ],
   "source": [
    "azdias_missing"
   ]
  },
  {
   "cell_type": "code",
   "execution_count": 19,
   "metadata": {},
   "outputs": [
    {
     "data": {
      "text/html": [
       "<div>\n",
       "<style scoped>\n",
       "    .dataframe tbody tr th:only-of-type {\n",
       "        vertical-align: middle;\n",
       "    }\n",
       "\n",
       "    .dataframe tbody tr th {\n",
       "        vertical-align: top;\n",
       "    }\n",
       "\n",
       "    .dataframe thead th {\n",
       "        text-align: right;\n",
       "    }\n",
       "</style>\n",
       "<table border=\"1\" class=\"dataframe\">\n",
       "  <thead>\n",
       "    <tr style=\"text-align: right;\">\n",
       "      <th></th>\n",
       "      <th>CAMEO_DEU_2015</th>\n",
       "      <th>D19_LETZTER_KAUF_BRANCHE</th>\n",
       "      <th>EINGEFUEGT_AM</th>\n",
       "      <th>OST_WEST_KZ</th>\n",
       "    </tr>\n",
       "  </thead>\n",
       "  <tbody>\n",
       "    <tr>\n",
       "      <th>0</th>\n",
       "      <td>NaN</td>\n",
       "      <td>NaN</td>\n",
       "      <td>NaN</td>\n",
       "      <td>NaN</td>\n",
       "    </tr>\n",
       "    <tr>\n",
       "      <th>1</th>\n",
       "      <td>8A</td>\n",
       "      <td>NaN</td>\n",
       "      <td>1992-02-10 00:00:00</td>\n",
       "      <td>W</td>\n",
       "    </tr>\n",
       "    <tr>\n",
       "      <th>2</th>\n",
       "      <td>4C</td>\n",
       "      <td>D19_UNBEKANNT</td>\n",
       "      <td>1992-02-12 00:00:00</td>\n",
       "      <td>W</td>\n",
       "    </tr>\n",
       "    <tr>\n",
       "      <th>3</th>\n",
       "      <td>2A</td>\n",
       "      <td>D19_UNBEKANNT</td>\n",
       "      <td>1997-04-21 00:00:00</td>\n",
       "      <td>W</td>\n",
       "    </tr>\n",
       "    <tr>\n",
       "      <th>4</th>\n",
       "      <td>6B</td>\n",
       "      <td>D19_SCHUHE</td>\n",
       "      <td>1992-02-12 00:00:00</td>\n",
       "      <td>W</td>\n",
       "    </tr>\n",
       "    <tr>\n",
       "      <th>5</th>\n",
       "      <td>8C</td>\n",
       "      <td>D19_ENERGIE</td>\n",
       "      <td>1992-02-12 00:00:00</td>\n",
       "      <td>W</td>\n",
       "    </tr>\n",
       "    <tr>\n",
       "      <th>6</th>\n",
       "      <td>4A</td>\n",
       "      <td>D19_UNBEKANNT</td>\n",
       "      <td>1992-02-12 00:00:00</td>\n",
       "      <td>W</td>\n",
       "    </tr>\n",
       "    <tr>\n",
       "      <th>7</th>\n",
       "      <td>2D</td>\n",
       "      <td>D19_UNBEKANNT</td>\n",
       "      <td>1992-02-10 00:00:00</td>\n",
       "      <td>W</td>\n",
       "    </tr>\n",
       "    <tr>\n",
       "      <th>8</th>\n",
       "      <td>1A</td>\n",
       "      <td>NaN</td>\n",
       "      <td>1992-02-10 00:00:00</td>\n",
       "      <td>W</td>\n",
       "    </tr>\n",
       "    <tr>\n",
       "      <th>9</th>\n",
       "      <td>1E</td>\n",
       "      <td>D19_KOSMETIK</td>\n",
       "      <td>1992-02-10 00:00:00</td>\n",
       "      <td>W</td>\n",
       "    </tr>\n",
       "    <tr>\n",
       "      <th>10</th>\n",
       "      <td>9D</td>\n",
       "      <td>D19_UNBEKANNT</td>\n",
       "      <td>1992-02-10 00:00:00</td>\n",
       "      <td>W</td>\n",
       "    </tr>\n",
       "    <tr>\n",
       "      <th>11</th>\n",
       "      <td>NaN</td>\n",
       "      <td>NaN</td>\n",
       "      <td>NaN</td>\n",
       "      <td>NaN</td>\n",
       "    </tr>\n",
       "    <tr>\n",
       "      <th>12</th>\n",
       "      <td>6B</td>\n",
       "      <td>D19_SCHUHE</td>\n",
       "      <td>2005-12-30 00:00:00</td>\n",
       "      <td>W</td>\n",
       "    </tr>\n",
       "    <tr>\n",
       "      <th>13</th>\n",
       "      <td>5C</td>\n",
       "      <td>D19_VOLLSORTIMENT</td>\n",
       "      <td>2009-01-19 00:00:00</td>\n",
       "      <td>W</td>\n",
       "    </tr>\n",
       "    <tr>\n",
       "      <th>14</th>\n",
       "      <td>NaN</td>\n",
       "      <td>NaN</td>\n",
       "      <td>NaN</td>\n",
       "      <td>NaN</td>\n",
       "    </tr>\n",
       "    <tr>\n",
       "      <th>15</th>\n",
       "      <td>8B</td>\n",
       "      <td>D19_UNBEKANNT</td>\n",
       "      <td>1992-02-12 00:00:00</td>\n",
       "      <td>W</td>\n",
       "    </tr>\n",
       "    <tr>\n",
       "      <th>16</th>\n",
       "      <td>7A</td>\n",
       "      <td>D19_SONSTIGE</td>\n",
       "      <td>1995-02-02 00:00:00</td>\n",
       "      <td>W</td>\n",
       "    </tr>\n",
       "    <tr>\n",
       "      <th>17</th>\n",
       "      <td>NaN</td>\n",
       "      <td>NaN</td>\n",
       "      <td>NaN</td>\n",
       "      <td>NaN</td>\n",
       "    </tr>\n",
       "    <tr>\n",
       "      <th>18</th>\n",
       "      <td>4C</td>\n",
       "      <td>NaN</td>\n",
       "      <td>1996-12-05 00:00:00</td>\n",
       "      <td>W</td>\n",
       "    </tr>\n",
       "    <tr>\n",
       "      <th>19</th>\n",
       "      <td>5D</td>\n",
       "      <td>NaN</td>\n",
       "      <td>1992-02-12 00:00:00</td>\n",
       "      <td>W</td>\n",
       "    </tr>\n",
       "    <tr>\n",
       "      <th>20</th>\n",
       "      <td>4C</td>\n",
       "      <td>D19_SONSTIGE</td>\n",
       "      <td>2002-03-13 00:00:00</td>\n",
       "      <td>W</td>\n",
       "    </tr>\n",
       "    <tr>\n",
       "      <th>21</th>\n",
       "      <td>9E</td>\n",
       "      <td>NaN</td>\n",
       "      <td>1992-02-12 00:00:00</td>\n",
       "      <td>W</td>\n",
       "    </tr>\n",
       "    <tr>\n",
       "      <th>22</th>\n",
       "      <td>9D</td>\n",
       "      <td>NaN</td>\n",
       "      <td>1992-02-10 00:00:00</td>\n",
       "      <td>W</td>\n",
       "    </tr>\n",
       "    <tr>\n",
       "      <th>23</th>\n",
       "      <td>6B</td>\n",
       "      <td>D19_BANKEN_GROSS</td>\n",
       "      <td>1992-02-12 00:00:00</td>\n",
       "      <td>W</td>\n",
       "    </tr>\n",
       "    <tr>\n",
       "      <th>24</th>\n",
       "      <td>NaN</td>\n",
       "      <td>NaN</td>\n",
       "      <td>NaN</td>\n",
       "      <td>NaN</td>\n",
       "    </tr>\n",
       "    <tr>\n",
       "      <th>25</th>\n",
       "      <td>5C</td>\n",
       "      <td>D19_UNBEKANNT</td>\n",
       "      <td>1992-02-12 00:00:00</td>\n",
       "      <td>W</td>\n",
       "    </tr>\n",
       "    <tr>\n",
       "      <th>26</th>\n",
       "      <td>NaN</td>\n",
       "      <td>D19_ENERGIE</td>\n",
       "      <td>2015-04-01 00:00:00</td>\n",
       "      <td>W</td>\n",
       "    </tr>\n",
       "    <tr>\n",
       "      <th>27</th>\n",
       "      <td>9B</td>\n",
       "      <td>D19_SCHUHE</td>\n",
       "      <td>1996-05-09 00:00:00</td>\n",
       "      <td>W</td>\n",
       "    </tr>\n",
       "    <tr>\n",
       "      <th>28</th>\n",
       "      <td>1A</td>\n",
       "      <td>NaN</td>\n",
       "      <td>1992-02-12 00:00:00</td>\n",
       "      <td>W</td>\n",
       "    </tr>\n",
       "    <tr>\n",
       "      <th>29</th>\n",
       "      <td>2A</td>\n",
       "      <td>D19_BANKEN_GROSS</td>\n",
       "      <td>2005-04-12 00:00:00</td>\n",
       "      <td>W</td>\n",
       "    </tr>\n",
       "    <tr>\n",
       "      <th>...</th>\n",
       "      <td>...</td>\n",
       "      <td>...</td>\n",
       "      <td>...</td>\n",
       "      <td>...</td>\n",
       "    </tr>\n",
       "    <tr>\n",
       "      <th>891191</th>\n",
       "      <td>6C</td>\n",
       "      <td>D19_VERSAND_REST</td>\n",
       "      <td>1992-02-10 00:00:00</td>\n",
       "      <td>W</td>\n",
       "    </tr>\n",
       "    <tr>\n",
       "      <th>891192</th>\n",
       "      <td>5B</td>\n",
       "      <td>NaN</td>\n",
       "      <td>1992-02-12 00:00:00</td>\n",
       "      <td>W</td>\n",
       "    </tr>\n",
       "    <tr>\n",
       "      <th>891193</th>\n",
       "      <td>6B</td>\n",
       "      <td>D19_BILDUNG</td>\n",
       "      <td>1992-02-12 00:00:00</td>\n",
       "      <td>W</td>\n",
       "    </tr>\n",
       "    <tr>\n",
       "      <th>891194</th>\n",
       "      <td>4C</td>\n",
       "      <td>D19_BUCH_CD</td>\n",
       "      <td>2000-10-04 00:00:00</td>\n",
       "      <td>W</td>\n",
       "    </tr>\n",
       "    <tr>\n",
       "      <th>891195</th>\n",
       "      <td>8D</td>\n",
       "      <td>D19_VOLLSORTIMENT</td>\n",
       "      <td>1992-02-10 00:00:00</td>\n",
       "      <td>W</td>\n",
       "    </tr>\n",
       "    <tr>\n",
       "      <th>891196</th>\n",
       "      <td>4B</td>\n",
       "      <td>D19_VOLLSORTIMENT</td>\n",
       "      <td>1993-11-03 00:00:00</td>\n",
       "      <td>W</td>\n",
       "    </tr>\n",
       "    <tr>\n",
       "      <th>891197</th>\n",
       "      <td>3C</td>\n",
       "      <td>D19_RATGEBER</td>\n",
       "      <td>1992-02-12 00:00:00</td>\n",
       "      <td>W</td>\n",
       "    </tr>\n",
       "    <tr>\n",
       "      <th>891198</th>\n",
       "      <td>2C</td>\n",
       "      <td>NaN</td>\n",
       "      <td>1992-02-12 00:00:00</td>\n",
       "      <td>W</td>\n",
       "    </tr>\n",
       "    <tr>\n",
       "      <th>891199</th>\n",
       "      <td>8A</td>\n",
       "      <td>NaN</td>\n",
       "      <td>1992-02-12 00:00:00</td>\n",
       "      <td>W</td>\n",
       "    </tr>\n",
       "    <tr>\n",
       "      <th>891200</th>\n",
       "      <td>9A</td>\n",
       "      <td>D19_UNBEKANNT</td>\n",
       "      <td>1992-02-10 00:00:00</td>\n",
       "      <td>W</td>\n",
       "    </tr>\n",
       "    <tr>\n",
       "      <th>891201</th>\n",
       "      <td>7A</td>\n",
       "      <td>D19_VERSAND_REST</td>\n",
       "      <td>1992-02-10 00:00:00</td>\n",
       "      <td>W</td>\n",
       "    </tr>\n",
       "    <tr>\n",
       "      <th>891202</th>\n",
       "      <td>8B</td>\n",
       "      <td>D19_VERSAND_REST</td>\n",
       "      <td>1992-02-10 00:00:00</td>\n",
       "      <td>W</td>\n",
       "    </tr>\n",
       "    <tr>\n",
       "      <th>891203</th>\n",
       "      <td>3D</td>\n",
       "      <td>D19_UNBEKANNT</td>\n",
       "      <td>2007-08-14 00:00:00</td>\n",
       "      <td>W</td>\n",
       "    </tr>\n",
       "    <tr>\n",
       "      <th>891204</th>\n",
       "      <td>3C</td>\n",
       "      <td>D19_TELKO_REST</td>\n",
       "      <td>1992-02-12 00:00:00</td>\n",
       "      <td>W</td>\n",
       "    </tr>\n",
       "    <tr>\n",
       "      <th>891205</th>\n",
       "      <td>5E</td>\n",
       "      <td>D19_UNBEKANNT</td>\n",
       "      <td>1992-02-10 00:00:00</td>\n",
       "      <td>W</td>\n",
       "    </tr>\n",
       "    <tr>\n",
       "      <th>891206</th>\n",
       "      <td>3D</td>\n",
       "      <td>D19_UNBEKANNT</td>\n",
       "      <td>1992-02-10 00:00:00</td>\n",
       "      <td>W</td>\n",
       "    </tr>\n",
       "    <tr>\n",
       "      <th>891207</th>\n",
       "      <td>7A</td>\n",
       "      <td>D19_UNBEKANNT</td>\n",
       "      <td>1992-02-10 00:00:00</td>\n",
       "      <td>W</td>\n",
       "    </tr>\n",
       "    <tr>\n",
       "      <th>891208</th>\n",
       "      <td>2C</td>\n",
       "      <td>D19_UNBEKANNT</td>\n",
       "      <td>1997-10-13 00:00:00</td>\n",
       "      <td>W</td>\n",
       "    </tr>\n",
       "    <tr>\n",
       "      <th>891209</th>\n",
       "      <td>8A</td>\n",
       "      <td>D19_TELKO_REST</td>\n",
       "      <td>1992-02-10 00:00:00</td>\n",
       "      <td>W</td>\n",
       "    </tr>\n",
       "    <tr>\n",
       "      <th>891210</th>\n",
       "      <td>8B</td>\n",
       "      <td>D19_WEIN_FEINKOST</td>\n",
       "      <td>1992-02-12 00:00:00</td>\n",
       "      <td>W</td>\n",
       "    </tr>\n",
       "    <tr>\n",
       "      <th>891211</th>\n",
       "      <td>9D</td>\n",
       "      <td>D19_UNBEKANNT</td>\n",
       "      <td>1992-02-12 00:00:00</td>\n",
       "      <td>W</td>\n",
       "    </tr>\n",
       "    <tr>\n",
       "      <th>891212</th>\n",
       "      <td>9D</td>\n",
       "      <td>NaN</td>\n",
       "      <td>1992-02-12 00:00:00</td>\n",
       "      <td>W</td>\n",
       "    </tr>\n",
       "    <tr>\n",
       "      <th>891213</th>\n",
       "      <td>5E</td>\n",
       "      <td>D19_VERSICHERUNGEN</td>\n",
       "      <td>1992-02-10 00:00:00</td>\n",
       "      <td>W</td>\n",
       "    </tr>\n",
       "    <tr>\n",
       "      <th>891214</th>\n",
       "      <td>3A</td>\n",
       "      <td>D19_UNBEKANNT</td>\n",
       "      <td>1992-02-10 00:00:00</td>\n",
       "      <td>W</td>\n",
       "    </tr>\n",
       "    <tr>\n",
       "      <th>891215</th>\n",
       "      <td>5A</td>\n",
       "      <td>NaN</td>\n",
       "      <td>1992-02-10 00:00:00</td>\n",
       "      <td>W</td>\n",
       "    </tr>\n",
       "    <tr>\n",
       "      <th>891216</th>\n",
       "      <td>7A</td>\n",
       "      <td>D19_HAUS_DEKO</td>\n",
       "      <td>1992-02-10 00:00:00</td>\n",
       "      <td>W</td>\n",
       "    </tr>\n",
       "    <tr>\n",
       "      <th>891217</th>\n",
       "      <td>9D</td>\n",
       "      <td>D19_UNBEKANNT</td>\n",
       "      <td>1992-02-10 00:00:00</td>\n",
       "      <td>W</td>\n",
       "    </tr>\n",
       "    <tr>\n",
       "      <th>891218</th>\n",
       "      <td>4C</td>\n",
       "      <td>D19_BEKLEIDUNG_GEH</td>\n",
       "      <td>1992-02-10 00:00:00</td>\n",
       "      <td>W</td>\n",
       "    </tr>\n",
       "    <tr>\n",
       "      <th>891219</th>\n",
       "      <td>9D</td>\n",
       "      <td>D19_UNBEKANNT</td>\n",
       "      <td>1992-02-12 00:00:00</td>\n",
       "      <td>W</td>\n",
       "    </tr>\n",
       "    <tr>\n",
       "      <th>891220</th>\n",
       "      <td>6B</td>\n",
       "      <td>NaN</td>\n",
       "      <td>1992-02-10 00:00:00</td>\n",
       "      <td>W</td>\n",
       "    </tr>\n",
       "  </tbody>\n",
       "</table>\n",
       "<p>891221 rows × 4 columns</p>\n",
       "</div>"
      ],
      "text/plain": [
       "       CAMEO_DEU_2015 D19_LETZTER_KAUF_BRANCHE        EINGEFUEGT_AM  \\\n",
       "0                 NaN                      NaN                  NaN   \n",
       "1                  8A                      NaN  1992-02-10 00:00:00   \n",
       "2                  4C            D19_UNBEKANNT  1992-02-12 00:00:00   \n",
       "3                  2A            D19_UNBEKANNT  1997-04-21 00:00:00   \n",
       "4                  6B               D19_SCHUHE  1992-02-12 00:00:00   \n",
       "5                  8C              D19_ENERGIE  1992-02-12 00:00:00   \n",
       "6                  4A            D19_UNBEKANNT  1992-02-12 00:00:00   \n",
       "7                  2D            D19_UNBEKANNT  1992-02-10 00:00:00   \n",
       "8                  1A                      NaN  1992-02-10 00:00:00   \n",
       "9                  1E             D19_KOSMETIK  1992-02-10 00:00:00   \n",
       "10                 9D            D19_UNBEKANNT  1992-02-10 00:00:00   \n",
       "11                NaN                      NaN                  NaN   \n",
       "12                 6B               D19_SCHUHE  2005-12-30 00:00:00   \n",
       "13                 5C        D19_VOLLSORTIMENT  2009-01-19 00:00:00   \n",
       "14                NaN                      NaN                  NaN   \n",
       "15                 8B            D19_UNBEKANNT  1992-02-12 00:00:00   \n",
       "16                 7A             D19_SONSTIGE  1995-02-02 00:00:00   \n",
       "17                NaN                      NaN                  NaN   \n",
       "18                 4C                      NaN  1996-12-05 00:00:00   \n",
       "19                 5D                      NaN  1992-02-12 00:00:00   \n",
       "20                 4C             D19_SONSTIGE  2002-03-13 00:00:00   \n",
       "21                 9E                      NaN  1992-02-12 00:00:00   \n",
       "22                 9D                      NaN  1992-02-10 00:00:00   \n",
       "23                 6B         D19_BANKEN_GROSS  1992-02-12 00:00:00   \n",
       "24                NaN                      NaN                  NaN   \n",
       "25                 5C            D19_UNBEKANNT  1992-02-12 00:00:00   \n",
       "26                NaN              D19_ENERGIE  2015-04-01 00:00:00   \n",
       "27                 9B               D19_SCHUHE  1996-05-09 00:00:00   \n",
       "28                 1A                      NaN  1992-02-12 00:00:00   \n",
       "29                 2A         D19_BANKEN_GROSS  2005-04-12 00:00:00   \n",
       "...               ...                      ...                  ...   \n",
       "891191             6C         D19_VERSAND_REST  1992-02-10 00:00:00   \n",
       "891192             5B                      NaN  1992-02-12 00:00:00   \n",
       "891193             6B              D19_BILDUNG  1992-02-12 00:00:00   \n",
       "891194             4C              D19_BUCH_CD  2000-10-04 00:00:00   \n",
       "891195             8D        D19_VOLLSORTIMENT  1992-02-10 00:00:00   \n",
       "891196             4B        D19_VOLLSORTIMENT  1993-11-03 00:00:00   \n",
       "891197             3C             D19_RATGEBER  1992-02-12 00:00:00   \n",
       "891198             2C                      NaN  1992-02-12 00:00:00   \n",
       "891199             8A                      NaN  1992-02-12 00:00:00   \n",
       "891200             9A            D19_UNBEKANNT  1992-02-10 00:00:00   \n",
       "891201             7A         D19_VERSAND_REST  1992-02-10 00:00:00   \n",
       "891202             8B         D19_VERSAND_REST  1992-02-10 00:00:00   \n",
       "891203             3D            D19_UNBEKANNT  2007-08-14 00:00:00   \n",
       "891204             3C           D19_TELKO_REST  1992-02-12 00:00:00   \n",
       "891205             5E            D19_UNBEKANNT  1992-02-10 00:00:00   \n",
       "891206             3D            D19_UNBEKANNT  1992-02-10 00:00:00   \n",
       "891207             7A            D19_UNBEKANNT  1992-02-10 00:00:00   \n",
       "891208             2C            D19_UNBEKANNT  1997-10-13 00:00:00   \n",
       "891209             8A           D19_TELKO_REST  1992-02-10 00:00:00   \n",
       "891210             8B        D19_WEIN_FEINKOST  1992-02-12 00:00:00   \n",
       "891211             9D            D19_UNBEKANNT  1992-02-12 00:00:00   \n",
       "891212             9D                      NaN  1992-02-12 00:00:00   \n",
       "891213             5E       D19_VERSICHERUNGEN  1992-02-10 00:00:00   \n",
       "891214             3A            D19_UNBEKANNT  1992-02-10 00:00:00   \n",
       "891215             5A                      NaN  1992-02-10 00:00:00   \n",
       "891216             7A            D19_HAUS_DEKO  1992-02-10 00:00:00   \n",
       "891217             9D            D19_UNBEKANNT  1992-02-10 00:00:00   \n",
       "891218             4C       D19_BEKLEIDUNG_GEH  1992-02-10 00:00:00   \n",
       "891219             9D            D19_UNBEKANNT  1992-02-12 00:00:00   \n",
       "891220             6B                      NaN  1992-02-10 00:00:00   \n",
       "\n",
       "       OST_WEST_KZ  \n",
       "0              NaN  \n",
       "1                W  \n",
       "2                W  \n",
       "3                W  \n",
       "4                W  \n",
       "5                W  \n",
       "6                W  \n",
       "7                W  \n",
       "8                W  \n",
       "9                W  \n",
       "10               W  \n",
       "11             NaN  \n",
       "12               W  \n",
       "13               W  \n",
       "14             NaN  \n",
       "15               W  \n",
       "16               W  \n",
       "17             NaN  \n",
       "18               W  \n",
       "19               W  \n",
       "20               W  \n",
       "21               W  \n",
       "22               W  \n",
       "23               W  \n",
       "24             NaN  \n",
       "25               W  \n",
       "26               W  \n",
       "27               W  \n",
       "28               W  \n",
       "29               W  \n",
       "...            ...  \n",
       "891191           W  \n",
       "891192           W  \n",
       "891193           W  \n",
       "891194           W  \n",
       "891195           W  \n",
       "891196           W  \n",
       "891197           W  \n",
       "891198           W  \n",
       "891199           W  \n",
       "891200           W  \n",
       "891201           W  \n",
       "891202           W  \n",
       "891203           W  \n",
       "891204           W  \n",
       "891205           W  \n",
       "891206           W  \n",
       "891207           W  \n",
       "891208           W  \n",
       "891209           W  \n",
       "891210           W  \n",
       "891211           W  \n",
       "891212           W  \n",
       "891213           W  \n",
       "891214           W  \n",
       "891215           W  \n",
       "891216           W  \n",
       "891217           W  \n",
       "891218           W  \n",
       "891219           W  \n",
       "891220           W  \n",
       "\n",
       "[891221 rows x 4 columns]"
      ]
     },
     "execution_count": 19,
     "metadata": {},
     "output_type": "execute_result"
    }
   ],
   "source": [
    "azdias.select_dtypes(include='object')"
   ]
  },
  {
   "cell_type": "code",
   "execution_count": 20,
   "metadata": {},
   "outputs": [],
   "source": [
    "#From reading the DIAS Attributes - Values 2017.xlsx creating a list of features that are categorical\n",
    "\n",
    "categorical = ['AGER_TYP',\n",
    "               'ANREDE_KZ',\n",
    "               'CAMEO_DEU_2015',\n",
    "               'CAMEO_DEUG_2015',\n",
    "               'CAMEO_INTL_2015',\n",
    "               'CJT_GESAMTTYP',\n",
    "               'D19_BANKEN_DATUM',\n",
    "               'D19_BANKEN_OFFLINE_DATUM',\n",
    "               'D19_BANKEN_ONLINE_DATUM',\n",
    "               'D19_GESAMT_DATUM',\n",
    "               'D19_GESAMT_OFFLINE_DATUM',\n",
    "               'D19_GESAMT_ONLINE_DATUM',\n",
    "               'D19_KONSUMTYP',\n",
    "               'D19_TELKO_DATUM',\n",
    "               'D19_TELKO_OFFLINE_DATUM',\n",
    "               'D19_TELKO_ONLINE_DATUM',\n",
    "               'D19_VERSAND_DATUM',\n",
    "               'D19_VERSAND_OFFLINE_DATUM',\n",
    "               'D19_VERSAND_ONLINE_DATUM',\n",
    "               'D19_VERSI_DATUM',\n",
    "               'D19_VERSI_OFFLINE_DATUM',\n",
    "               'D19_VERSI_ONLINE_DATUM',\n",
    "               'FINANZTYP',\n",
    "               'GEBAEUDETYP',\n",
    "               'GFK_URLAUBERTYP',\n",
    "               'GREEN_AVANTGARDE',\n",
    "               'KBA05_BAUMAX',\n",
    "               'KK_KUNDENTYP',\n",
    "               'LP_FAMILIE_FEIN',\n",
    "               'LP_FAMILIE_GROB',\n",
    "               'LP_STATUS_FEIN',\n",
    "               'LP_STATUS_GROB',\n",
    "               'NATIONALITAET_KZ',\n",
    "               'OST_WEST_KZ',\n",
    "               'PLZ8_BAUMAX',\n",
    "               'SHOPPER_TYP',\n",
    "               'SOHO_KZ',\n",
    "               'TITEL_KZ',\n",
    "               'VERS_TYP',\n",
    "               'WOHNLAGE',\n",
    "               'ZABEOTYP']"
   ]
  },
  {
   "cell_type": "code",
   "execution_count": 4,
   "metadata": {},
   "outputs": [],
   "source": [
    "def cat_count(df, categorical):\n",
    "    '''\n",
    "    Given a demographic dataframe and a list of categorical features,\n",
    "    prints the amount of categorical variables per feature\n",
    "    Args:\n",
    "        df (df): demographics dataframe\n",
    "        categorical (list): a list of categorical features\n",
    "    returns: None\n",
    "    '''\n",
    "    cat = [x for x in categorical if x in df.columns] \n",
    "    \n",
    "    print(df[cat].nunique())"
   ]
  },
  {
   "cell_type": "code",
   "execution_count": 22,
   "metadata": {},
   "outputs": [
    {
     "name": "stdout",
     "output_type": "stream",
     "text": [
      "AGER_TYP                      5\n",
      "ANREDE_KZ                     2\n",
      "CAMEO_DEU_2015               45\n",
      "CAMEO_DEUG_2015               9\n",
      "CAMEO_INTL_2015              21\n",
      "CJT_GESAMTTYP                 6\n",
      "D19_BANKEN_DATUM             10\n",
      "D19_BANKEN_OFFLINE_DATUM     10\n",
      "D19_BANKEN_ONLINE_DATUM      10\n",
      "D19_GESAMT_DATUM             10\n",
      "D19_GESAMT_OFFLINE_DATUM     10\n",
      "D19_GESAMT_ONLINE_DATUM      10\n",
      "D19_KONSUMTYP                 7\n",
      "D19_TELKO_DATUM              10\n",
      "D19_TELKO_OFFLINE_DATUM      10\n",
      "D19_TELKO_ONLINE_DATUM       10\n",
      "D19_VERSAND_DATUM            10\n",
      "D19_VERSAND_OFFLINE_DATUM    10\n",
      "D19_VERSAND_ONLINE_DATUM     10\n",
      "D19_VERSI_DATUM              10\n",
      "D19_VERSI_OFFLINE_DATUM      10\n",
      "D19_VERSI_ONLINE_DATUM       10\n",
      "FINANZTYP                     6\n",
      "GEBAEUDETYP                   7\n",
      "GFK_URLAUBERTYP              12\n",
      "GREEN_AVANTGARDE              2\n",
      "KBA05_BAUMAX                  6\n",
      "KK_KUNDENTYP                  6\n",
      "LP_FAMILIE_FEIN              12\n",
      "LP_FAMILIE_GROB               6\n",
      "LP_STATUS_FEIN               10\n",
      "LP_STATUS_GROB                5\n",
      "NATIONALITAET_KZ              4\n",
      "OST_WEST_KZ                   2\n",
      "PLZ8_BAUMAX                   5\n",
      "SHOPPER_TYP                   5\n",
      "SOHO_KZ                       2\n",
      "TITEL_KZ                      6\n",
      "VERS_TYP                      3\n",
      "WOHNLAGE                      8\n",
      "ZABEOTYP                      6\n",
      "dtype: int64\n"
     ]
    }
   ],
   "source": [
    "cat_count(azdias, categorical)"
   ]
  },
  {
   "cell_type": "code",
   "execution_count": 70,
   "metadata": {},
   "outputs": [
    {
     "data": {
      "text/html": [
       "<div>\n",
       "<style scoped>\n",
       "    .dataframe tbody tr th:only-of-type {\n",
       "        vertical-align: middle;\n",
       "    }\n",
       "\n",
       "    .dataframe tbody tr th {\n",
       "        vertical-align: top;\n",
       "    }\n",
       "\n",
       "    .dataframe thead th {\n",
       "        text-align: right;\n",
       "    }\n",
       "</style>\n",
       "<table border=\"1\" class=\"dataframe\">\n",
       "  <thead>\n",
       "    <tr style=\"text-align: right;\">\n",
       "      <th></th>\n",
       "      <th>Attribute</th>\n",
       "      <th>Description</th>\n",
       "      <th>Value</th>\n",
       "      <th>Meaning</th>\n",
       "    </tr>\n",
       "  </thead>\n",
       "  <tbody>\n",
       "    <tr>\n",
       "      <th>0</th>\n",
       "      <td>AGER_TYP</td>\n",
       "      <td>best-ager typology</td>\n",
       "      <td>-1</td>\n",
       "      <td>unknown</td>\n",
       "    </tr>\n",
       "    <tr>\n",
       "      <th>1</th>\n",
       "      <td>NaN</td>\n",
       "      <td>NaN</td>\n",
       "      <td>0</td>\n",
       "      <td>no classification possible</td>\n",
       "    </tr>\n",
       "    <tr>\n",
       "      <th>2</th>\n",
       "      <td>NaN</td>\n",
       "      <td>NaN</td>\n",
       "      <td>1</td>\n",
       "      <td>passive elderly</td>\n",
       "    </tr>\n",
       "    <tr>\n",
       "      <th>3</th>\n",
       "      <td>NaN</td>\n",
       "      <td>NaN</td>\n",
       "      <td>2</td>\n",
       "      <td>cultural elderly</td>\n",
       "    </tr>\n",
       "    <tr>\n",
       "      <th>4</th>\n",
       "      <td>NaN</td>\n",
       "      <td>NaN</td>\n",
       "      <td>3</td>\n",
       "      <td>experience-driven elderly</td>\n",
       "    </tr>\n",
       "    <tr>\n",
       "      <th>5</th>\n",
       "      <td>ALTERSKATEGORIE_GROB</td>\n",
       "      <td>age classification through prename analysis</td>\n",
       "      <td>-1, 0</td>\n",
       "      <td>unknown</td>\n",
       "    </tr>\n",
       "    <tr>\n",
       "      <th>6</th>\n",
       "      <td>NaN</td>\n",
       "      <td>NaN</td>\n",
       "      <td>1</td>\n",
       "      <td>&lt; 30 years</td>\n",
       "    </tr>\n",
       "    <tr>\n",
       "      <th>7</th>\n",
       "      <td>NaN</td>\n",
       "      <td>NaN</td>\n",
       "      <td>2</td>\n",
       "      <td>30 - 45 years</td>\n",
       "    </tr>\n",
       "    <tr>\n",
       "      <th>8</th>\n",
       "      <td>NaN</td>\n",
       "      <td>NaN</td>\n",
       "      <td>3</td>\n",
       "      <td>46 - 60 years</td>\n",
       "    </tr>\n",
       "    <tr>\n",
       "      <th>9</th>\n",
       "      <td>NaN</td>\n",
       "      <td>NaN</td>\n",
       "      <td>4</td>\n",
       "      <td>&gt; 60 years</td>\n",
       "    </tr>\n",
       "    <tr>\n",
       "      <th>10</th>\n",
       "      <td>NaN</td>\n",
       "      <td>NaN</td>\n",
       "      <td>9</td>\n",
       "      <td>uniformly distributed</td>\n",
       "    </tr>\n",
       "    <tr>\n",
       "      <th>11</th>\n",
       "      <td>ALTER_HH</td>\n",
       "      <td>main age within the household</td>\n",
       "      <td>0</td>\n",
       "      <td>unknown / no main age detectable</td>\n",
       "    </tr>\n",
       "    <tr>\n",
       "      <th>12</th>\n",
       "      <td>NaN</td>\n",
       "      <td>NaN</td>\n",
       "      <td>1</td>\n",
       "      <td>01.01.1895 bis 31.12.1899</td>\n",
       "    </tr>\n",
       "    <tr>\n",
       "      <th>13</th>\n",
       "      <td>NaN</td>\n",
       "      <td>NaN</td>\n",
       "      <td>2</td>\n",
       "      <td>01.01.1900 bis 31.12.1904</td>\n",
       "    </tr>\n",
       "    <tr>\n",
       "      <th>14</th>\n",
       "      <td>NaN</td>\n",
       "      <td>NaN</td>\n",
       "      <td>3</td>\n",
       "      <td>01.01.1905 bis 31.12.1909</td>\n",
       "    </tr>\n",
       "  </tbody>\n",
       "</table>\n",
       "</div>"
      ],
      "text/plain": [
       "               Attribute                                   Description  Value  \\\n",
       "0               AGER_TYP                            best-ager typology     -1   \n",
       "1                    NaN                                           NaN      0   \n",
       "2                    NaN                                           NaN      1   \n",
       "3                    NaN                                           NaN      2   \n",
       "4                    NaN                                           NaN      3   \n",
       "5   ALTERSKATEGORIE_GROB  age classification through prename analysis   -1, 0   \n",
       "6                    NaN                                           NaN      1   \n",
       "7                    NaN                                           NaN      2   \n",
       "8                    NaN                                           NaN      3   \n",
       "9                    NaN                                           NaN      4   \n",
       "10                   NaN                                           NaN      9   \n",
       "11              ALTER_HH                 main age within the household      0   \n",
       "12                   NaN                                           NaN      1   \n",
       "13                   NaN                                           NaN      2   \n",
       "14                   NaN                                           NaN      3   \n",
       "\n",
       "                             Meaning  \n",
       "0                            unknown  \n",
       "1         no classification possible  \n",
       "2                    passive elderly  \n",
       "3                   cultural elderly  \n",
       "4          experience-driven elderly  \n",
       "5                            unknown  \n",
       "6                         < 30 years  \n",
       "7                      30 - 45 years  \n",
       "8                      46 - 60 years  \n",
       "9                         > 60 years  \n",
       "10             uniformly distributed  \n",
       "11  unknown / no main age detectable  \n",
       "12         01.01.1895 bis 31.12.1899  \n",
       "13         01.01.1900 bis 31.12.1904  \n",
       "14         01.01.1905 bis 31.12.1909  "
      ]
     },
     "execution_count": 70,
     "metadata": {},
     "output_type": "execute_result"
    }
   ],
   "source": [
    "#load in the dias attributes data\n",
    "\n",
    "dias_attributes = pd.read_excel('DIAS Attributes - Values 2017.xlsx', skiprows=[0])\n",
    "dias_attributes.drop(['Unnamed: 0'], axis = 1, inplace = True)\n",
    "dias_attributes.head(15)"
   ]
  },
  {
   "cell_type": "code",
   "execution_count": 73,
   "metadata": {
    "scrolled": false
   },
   "outputs": [
    {
     "data": {
      "text/html": [
       "<div>\n",
       "<style scoped>\n",
       "    .dataframe tbody tr th:only-of-type {\n",
       "        vertical-align: middle;\n",
       "    }\n",
       "\n",
       "    .dataframe tbody tr th {\n",
       "        vertical-align: top;\n",
       "    }\n",
       "\n",
       "    .dataframe thead th {\n",
       "        text-align: right;\n",
       "    }\n",
       "</style>\n",
       "<table border=\"1\" class=\"dataframe\">\n",
       "  <thead>\n",
       "    <tr style=\"text-align: right;\">\n",
       "      <th></th>\n",
       "      <th>features</th>\n",
       "      <th>unknowns</th>\n",
       "    </tr>\n",
       "  </thead>\n",
       "  <tbody>\n",
       "    <tr>\n",
       "      <th>0</th>\n",
       "      <td>AGER_TYP</td>\n",
       "      <td>-1</td>\n",
       "    </tr>\n",
       "    <tr>\n",
       "      <th>1</th>\n",
       "      <td>ALTERSKATEGORIE_GROB</td>\n",
       "      <td>-1,0,9</td>\n",
       "    </tr>\n",
       "    <tr>\n",
       "      <th>2</th>\n",
       "      <td>ALTER_HH</td>\n",
       "      <td>0</td>\n",
       "    </tr>\n",
       "    <tr>\n",
       "      <th>3</th>\n",
       "      <td>ANREDE_KZ</td>\n",
       "      <td>-1,0</td>\n",
       "    </tr>\n",
       "    <tr>\n",
       "      <th>4</th>\n",
       "      <td>BALLRAUM</td>\n",
       "      <td>-1</td>\n",
       "    </tr>\n",
       "    <tr>\n",
       "      <th>5</th>\n",
       "      <td>BIP_FLAG</td>\n",
       "      <td>-1</td>\n",
       "    </tr>\n",
       "    <tr>\n",
       "      <th>6</th>\n",
       "      <td>CAMEO_DEUG_2015</td>\n",
       "      <td>-1</td>\n",
       "    </tr>\n",
       "    <tr>\n",
       "      <th>7</th>\n",
       "      <td>CAMEO_DEUINTL_2015</td>\n",
       "      <td>-1</td>\n",
       "    </tr>\n",
       "    <tr>\n",
       "      <th>8</th>\n",
       "      <td>CJT_GESAMTTYP</td>\n",
       "      <td>0</td>\n",
       "    </tr>\n",
       "    <tr>\n",
       "      <th>9</th>\n",
       "      <td>D19_KK_KUNDENTYP</td>\n",
       "      <td>-1</td>\n",
       "    </tr>\n",
       "    <tr>\n",
       "      <th>10</th>\n",
       "      <td>EWDICHTE</td>\n",
       "      <td>-1</td>\n",
       "    </tr>\n",
       "    <tr>\n",
       "      <th>11</th>\n",
       "      <td>FINANZTYP</td>\n",
       "      <td>-1</td>\n",
       "    </tr>\n",
       "    <tr>\n",
       "      <th>12</th>\n",
       "      <td>FINANZ_ANLEGER</td>\n",
       "      <td>-1</td>\n",
       "    </tr>\n",
       "    <tr>\n",
       "      <th>13</th>\n",
       "      <td>FINANZ_HAUSBAUER</td>\n",
       "      <td>-1</td>\n",
       "    </tr>\n",
       "    <tr>\n",
       "      <th>14</th>\n",
       "      <td>FINANZ_MINIMALIST</td>\n",
       "      <td>-1</td>\n",
       "    </tr>\n",
       "    <tr>\n",
       "      <th>15</th>\n",
       "      <td>FINANZ_SPARER</td>\n",
       "      <td>-1</td>\n",
       "    </tr>\n",
       "    <tr>\n",
       "      <th>16</th>\n",
       "      <td>FINANZ_UNAUFFAELLIGER</td>\n",
       "      <td>-1</td>\n",
       "    </tr>\n",
       "    <tr>\n",
       "      <th>17</th>\n",
       "      <td>FINANZ_VORSORGER</td>\n",
       "      <td>-1</td>\n",
       "    </tr>\n",
       "    <tr>\n",
       "      <th>18</th>\n",
       "      <td>GEBAEUDETYP</td>\n",
       "      <td>-1,0</td>\n",
       "    </tr>\n",
       "    <tr>\n",
       "      <th>19</th>\n",
       "      <td>GEOSCORE_KLS7</td>\n",
       "      <td>-1,0</td>\n",
       "    </tr>\n",
       "    <tr>\n",
       "      <th>20</th>\n",
       "      <td>HAUSHALTSSTRUKTUR</td>\n",
       "      <td>-1,0</td>\n",
       "    </tr>\n",
       "    <tr>\n",
       "      <th>21</th>\n",
       "      <td>HEALTH_TYP</td>\n",
       "      <td>-1</td>\n",
       "    </tr>\n",
       "    <tr>\n",
       "      <th>22</th>\n",
       "      <td>HH_EINKOMMEN_SCORE</td>\n",
       "      <td>-1,0</td>\n",
       "    </tr>\n",
       "    <tr>\n",
       "      <th>23</th>\n",
       "      <td>INNENSTADT</td>\n",
       "      <td>-1</td>\n",
       "    </tr>\n",
       "    <tr>\n",
       "      <th>24</th>\n",
       "      <td>KBA05_ALTER1</td>\n",
       "      <td>-1,9</td>\n",
       "    </tr>\n",
       "    <tr>\n",
       "      <th>25</th>\n",
       "      <td>KBA05_ALTER2</td>\n",
       "      <td>-1,9</td>\n",
       "    </tr>\n",
       "    <tr>\n",
       "      <th>26</th>\n",
       "      <td>KBA05_ALTER3</td>\n",
       "      <td>-1,9</td>\n",
       "    </tr>\n",
       "    <tr>\n",
       "      <th>27</th>\n",
       "      <td>KBA05_ALTER4</td>\n",
       "      <td>-1,9</td>\n",
       "    </tr>\n",
       "    <tr>\n",
       "      <th>28</th>\n",
       "      <td>KBA05_ANHANG</td>\n",
       "      <td>-1,9</td>\n",
       "    </tr>\n",
       "    <tr>\n",
       "      <th>29</th>\n",
       "      <td>KBA05_ANTG1</td>\n",
       "      <td>-1</td>\n",
       "    </tr>\n",
       "  </tbody>\n",
       "</table>\n",
       "</div>"
      ],
      "text/plain": [
       "                 features unknowns\n",
       "0                AGER_TYP       -1\n",
       "1    ALTERSKATEGORIE_GROB   -1,0,9\n",
       "2                ALTER_HH        0\n",
       "3               ANREDE_KZ     -1,0\n",
       "4                BALLRAUM       -1\n",
       "5                BIP_FLAG       -1\n",
       "6         CAMEO_DEUG_2015       -1\n",
       "7      CAMEO_DEUINTL_2015       -1\n",
       "8           CJT_GESAMTTYP        0\n",
       "9        D19_KK_KUNDENTYP       -1\n",
       "10               EWDICHTE       -1\n",
       "11              FINANZTYP       -1\n",
       "12         FINANZ_ANLEGER       -1\n",
       "13       FINANZ_HAUSBAUER       -1\n",
       "14      FINANZ_MINIMALIST       -1\n",
       "15          FINANZ_SPARER       -1\n",
       "16  FINANZ_UNAUFFAELLIGER       -1\n",
       "17       FINANZ_VORSORGER       -1\n",
       "18            GEBAEUDETYP     -1,0\n",
       "19          GEOSCORE_KLS7     -1,0\n",
       "20      HAUSHALTSSTRUKTUR     -1,0\n",
       "21             HEALTH_TYP       -1\n",
       "22     HH_EINKOMMEN_SCORE     -1,0\n",
       "23             INNENSTADT       -1\n",
       "24           KBA05_ALTER1     -1,9\n",
       "25           KBA05_ALTER2     -1,9\n",
       "26           KBA05_ALTER3     -1,9\n",
       "27           KBA05_ALTER4     -1,9\n",
       "28           KBA05_ANHANG     -1,9\n",
       "29            KBA05_ANTG1       -1"
      ]
     },
     "execution_count": 73,
     "metadata": {},
     "output_type": "execute_result"
    }
   ],
   "source": [
    "#Find unknown values for each attributes\n",
    "\n",
    "attributes_unknown = {}\n",
    "for i in range(len(dias_attributes)):\n",
    "    if type(dias_attributes.iloc[i]['Attribute']) == str:\n",
    "        tmp = dias_attributes.iloc[i]['Attribute']\n",
    "    \n",
    "    if type(dias_attributes.iloc[i]['Meaning']) == str:\n",
    "        if not dias_attributes.iloc[i]['Meaning'].find('unknown') == -1\\\n",
    "            or not dias_attributes.iloc[i]['Meaning'].find('uniformly distributed') == -1 or\\\n",
    "            not dias_attributes.iloc[i]['Meaning'].find('missing') == -1:\n",
    "            \n",
    "            if tmp in attributes_unknown:\n",
    "                attributes_unknown[tmp].append(str(dias_attributes.iloc[i]['Value']))\n",
    "            else:\n",
    "                attributes_unknown[tmp] = [str(dias_attributes.iloc[i]['Value'])]\n",
    "\n",
    "name = []\n",
    "attr = []\n",
    "for i in attributes_unknown:\n",
    "    name.append(i)\n",
    "    attr.append(attributes_unknown[i])\n",
    "    tmp = []\n",
    "    for j in attributes_unknown[i]:\n",
    "        if j.find(','):\n",
    "            tmp += j.replace(' ','').split(',')\n",
    "        else:\n",
    "            tmp.append(j)\n",
    "    \n",
    "    for k in range(len(tmp)):\n",
    "        tmp[k] = int(tmp[k])\n",
    "        \n",
    "    attributes_unknown[i] = tmp\n",
    "\n",
    "#for clean printing purpose\n",
    "for idx, i in enumerate(attr):\n",
    "    attr[idx] = ','.join(attr[idx]).replace(' ','')\n",
    "\n",
    "a = {'features':name, 'unknowns':attr}\n",
    "l = ['features','unknowns']\n",
    "attr_df = pd.DataFrame(a, columns=l)\n",
    "\n",
    "name = []\n",
    "attr = []\n",
    "\n",
    "attr_df.head(30)"
   ]
  },
  {
   "cell_type": "code",
   "execution_count": 7,
   "metadata": {},
   "outputs": [],
   "source": [
    "def missing_to_nans(df, attributes_unknown):\n",
    "    '''\n",
    "    Replace the missing value in a demographic dataframe with nan\n",
    "    Args: \n",
    "        df (df): demographic dataframe\n",
    "        attributes_unknown (dict): a dictionary where the keys are the features attributes\n",
    "        and containing a list of the unknown value for this specific attribute\n",
    "    returns: None\n",
    "    '''\n",
    "    for feature in attributes_unknown:\n",
    "        if feature in df:\n",
    "            for missing in attributes_unknown[feature]: \n",
    "                df[feature].replace(missing, np.nan, inplace=True)"
   ]
  },
  {
   "cell_type": "code",
   "execution_count": 26,
   "metadata": {},
   "outputs": [],
   "source": [
    "missing_to_nans(azdias, attributes_unknown)"
   ]
  },
  {
   "cell_type": "code",
   "execution_count": 27,
   "metadata": {},
   "outputs": [],
   "source": [
    "missing_to_nans(customers, attributes_unknown)"
   ]
  },
  {
   "cell_type": "code",
   "execution_count": 28,
   "metadata": {},
   "outputs": [],
   "source": [
    "azdias_missing = missing_pct(azdias)"
   ]
  },
  {
   "cell_type": "code",
   "execution_count": 29,
   "metadata": {},
   "outputs": [],
   "source": [
    "customers_missing = missing_pct(customers)"
   ]
  },
  {
   "cell_type": "code",
   "execution_count": 8,
   "metadata": {},
   "outputs": [],
   "source": [
    "def feature_cap(missing, cap):\n",
    "    '''\n",
    "    Compute the number of features that have less missing values than the cap\n",
    "    Args: \n",
    "        missing (df): missing value dataframe\n",
    "        cap (int): an interger representing in % the maximum of missing value that \n",
    "        a feature can have\n",
    "    returns (list): a list of feature that have less missing value than the cap\n",
    "    '''\n",
    "    res = []\n",
    "    for i in range(len(missing)):\n",
    "        if missing.iloc[i]['percent_missing'] <= cap:\n",
    "            res.append(missing.iloc[i]['column_name'])\n",
    "    return res"
   ]
  },
  {
   "cell_type": "code",
   "execution_count": 31,
   "metadata": {},
   "outputs": [],
   "source": [
    "azdias_x=[]\n",
    "azdias_y=[]\n",
    "for cap in range(101):\n",
    "    azdias_x.append(cap)\n",
    "    azdias_y.append(len(feature_cap(azdias_missing, cap)))"
   ]
  },
  {
   "cell_type": "code",
   "execution_count": 39,
   "metadata": {},
   "outputs": [
    {
     "data": {
      "image/png": "[encoded data removed]",
      "text/plain": [
       "<Figure size 432x288 with 1 Axes>"
      ]
     },
     "metadata": {
      "needs_background": "light"
     },
     "output_type": "display_data"
    }
   ],
   "source": [
    "plt.plot(azdias_x, azdias_y)\n",
    "plt.xlabel('% of missing value')\n",
    "plt.xticks(np.arange(0, 110, step=10))\n",
    "plt.ylabel('Number of features')\n",
    "plt.title('Azdias')\n",
    "plt.grid(b=True)\n",
    "plt.show()"
   ]
  },
  {
   "cell_type": "code",
   "execution_count": 33,
   "metadata": {},
   "outputs": [],
   "source": [
    "customers_x=[]\n",
    "customers_y=[]\n",
    "for cap in range(101):\n",
    "    customers_x.append(cap)\n",
    "    customers_y.append(len(feature_cap(customers_missing, cap)))"
   ]
  },
  {
   "cell_type": "code",
   "execution_count": 38,
   "metadata": {},
   "outputs": [
    {
     "data": {
      "image/png": "[encoded data removed]",
      "text/plain": [
       "<Figure size 432x288 with 1 Axes>"
      ]
     },
     "metadata": {
      "needs_background": "light"
     },
     "output_type": "display_data"
    }
   ],
   "source": [
    "plt.plot(customers_x, customers_y)\n",
    "plt.xlabel('% of missing value')\n",
    "plt.xticks(np.arange(0, 110, step=10))\n",
    "plt.ylabel('Number of features')\n",
    "plt.title('Customers')\n",
    "plt.grid(b=True)\n",
    "plt.show()"
   ]
  },
  {
   "cell_type": "markdown",
   "metadata": {},
   "source": [
    "### From theese plot we can see that we could take a cap of around 18% for azdias dataset, but most of customers datasets columns have more than that. 30% seems to be a good choice overall"
   ]
  },
  {
   "cell_type": "code",
   "execution_count": 29,
   "metadata": {},
   "outputs": [
    {
     "name": "stdout",
     "output_type": "stream",
     "text": [
      "357\n"
     ]
    }
   ],
   "source": [
    "azdias_features_selected = feature_cap(azdias_missing, 30)\n",
    "print(len(azdias_features_selected))"
   ]
  },
  {
   "cell_type": "code",
   "execution_count": 30,
   "metadata": {},
   "outputs": [
    {
     "name": "stdout",
     "output_type": "stream",
     "text": [
      "355\n"
     ]
    }
   ],
   "source": [
    "customers_features_selected = feature_cap(customers_missing, 30)\n",
    "print(len(customers_features_selected))"
   ]
  },
  {
   "cell_type": "markdown",
   "metadata": {},
   "source": [
    "### We can see that with the same cap we dont have the same amount of features selected between azdias and customers dataframe.\n",
    "\n",
    "### Therefore we will need to check for the features that are selected in both."
   ]
  },
  {
   "cell_type": "code",
   "execution_count": 31,
   "metadata": {},
   "outputs": [
    {
     "data": {
      "text/plain": [
       "['REGIOTYP', 'KKK']"
      ]
     },
     "execution_count": 31,
     "metadata": {},
     "output_type": "execute_result"
    }
   ],
   "source": [
    "list(set(azdias_features_selected) - set(customers_features_selected))"
   ]
  },
  {
   "cell_type": "code",
   "execution_count": 32,
   "metadata": {},
   "outputs": [
    {
     "data": {
      "text/plain": [
       "[]"
      ]
     },
     "execution_count": 32,
     "metadata": {},
     "output_type": "execute_result"
    }
   ],
   "source": [
    "list(set(customers_features_selected) - set(azdias_features_selected))"
   ]
  },
  {
   "cell_type": "code",
   "execution_count": 33,
   "metadata": {},
   "outputs": [],
   "source": [
    "#since there is only 2 features selected more in azdias than customers and none the other way around,\n",
    "#we just keep customers_features_selected as features_selected for both in the future \n",
    "\n",
    "features_selected = customers_features_selected"
   ]
  },
  {
   "cell_type": "code",
   "execution_count": 34,
   "metadata": {},
   "outputs": [],
   "source": [
    "#getting rid of the features we dont need\n",
    "azdias = azdias[features_selected]"
   ]
  },
  {
   "cell_type": "markdown",
   "metadata": {},
   "source": [
    "### We now need to do some feature engineering around the categorical data"
   ]
  },
  {
   "cell_type": "code",
   "execution_count": 9,
   "metadata": {},
   "outputs": [],
   "source": [
    "def features_engineering(df):\n",
    "    '''\n",
    "    This function takes a demographic dataframe to create new features\n",
    "    and encode select categorical features\n",
    "    Args: \n",
    "        df (df) : demographic dataframe\n",
    "    returns: \n",
    "        df (df) : dataframe with new features\n",
    "    '''\n",
    "    # Dealing with Unnamed 0\n",
    "    if 'Unnamed: 0' in df:\n",
    "        df.drop(['Unnamed: 0'], axis = 1, inplace = True)\n",
    "        \n",
    "    # Dealing with ANREDE_KZ\n",
    "    if 'ANREDE_KZ' in df:\n",
    "        df = pd.get_dummies(df, columns = ['ANREDE_KZ'], prefix = ['ANREDE_KZ'], dummy_na = True, drop_first = True)\n",
    "    \n",
    "    # Dealing with CAMEO_DEU_2015\n",
    "    if 'CAMEO_DEU_2015' in df:\n",
    "        most_frequent = df['CAMEO_DEU_2015'].value_counts().idxmax()\n",
    "        df['CAMEO_DEU_2015'] = df['CAMEO_DEU_2015'].replace(['XX'], most_frequent).fillna(most_frequent)\n",
    "        values = np.array(df['CAMEO_DEU_2015'])\n",
    "        encoder = LabelEncoder()\n",
    "        encoded = encoder.fit_transform(values)\n",
    "        df['CAMEO_DEU_2015'] = encoded\n",
    "    \n",
    "    #dealing with CAMEO_INTL_2015\n",
    "    if 'CAMEO_INTL_2015' in df:\n",
    "        most_frequent = df['CAMEO_INTL_2015'].value_counts().idxmax()\n",
    "        df['CAMEO_INTL_2015'] = df['CAMEO_INTL_2015'].fillna(most_frequent)\n",
    "        df['FAMILY_STATUS'] = df['CAMEO_INTL_2015'].apply(lambda x: float(str(x)[1]))\n",
    "        df['FAMILY_REVENUE'] = df['CAMEO_INTL_2015'].apply(lambda x: float(str(x)[0]))\n",
    "        df.drop(['CAMEO_INTL_2015'], axis = 1, inplace = True)\n",
    "    \n",
    "    # Dealing with EINGEFUEGT_AM\n",
    "    if 'EINGEFUEGT_AM' in df:\n",
    "        df['EINGEFUEGT_AM'] = pd.to_datetime(df['EINGEFUEGT_AM']).dt.year\n",
    "    \n",
    "    #dealing with D19_LETZTER_KAUF_BRANCHE\n",
    "    if 'D19_LETZTER_KAUF_BRANCHE' in df:\n",
    "        df.drop(['D19_LETZTER_KAUF_BRANCHE'], axis = 1, inplace = True)\n",
    "    #dealing with LP_LEBENSPHASE_FEIN\n",
    "    if 'LP_LEBENSPHASE_FEIN' in df:\n",
    "        replace_dict = {1: 1,\n",
    "                        2: 1,\n",
    "                        3: 2,\n",
    "                        4: 2,\n",
    "                        5: 1,\n",
    "                        6: 1,\n",
    "                        7: 2,\n",
    "                        8: 2,\n",
    "                        9: 2,\n",
    "                        10: 3,\n",
    "                        11: 2,\n",
    "                        12: 2,\n",
    "                        13: 4,\n",
    "                        14: 2,\n",
    "                        15: 1,\n",
    "                        16: 2,\n",
    "                        17: 2,\n",
    "                        18: 3,\n",
    "                        19: 3,\n",
    "                        20: 4,\n",
    "                        21: 1,\n",
    "                        22: 2,\n",
    "                        23: 3,\n",
    "                        24: 1,\n",
    "                        25: 2,\n",
    "                        26: 2,\n",
    "                        27: 2,\n",
    "                        28: 4,\n",
    "                        29: 1,\n",
    "                        30: 2,\n",
    "                        31: 1,\n",
    "                        32: 2,\n",
    "                        33: 2,\n",
    "                        34: 2,\n",
    "                        35: 4, \n",
    "                        36: 2,\n",
    "                        37: 2,\n",
    "                        38: 2,\n",
    "                        39: 4,\n",
    "                        40: 4}\n",
    "        \n",
    "        df['LP_LEBENSPHASE_FEIN_WEALTH'] = df['LP_LEBENSPHASE_FEIN'].map(replace_dict)\n",
    "        \n",
    "        replace_dict = {1: 1,\n",
    "                        2: 2,\n",
    "                        3: 1,\n",
    "                        4: 2,\n",
    "                        5: 3,\n",
    "                        6: 4,\n",
    "                        7: 3,\n",
    "                        8: 4,\n",
    "                        9: 2,\n",
    "                        10: 2,\n",
    "                        11: 3,\n",
    "                        12: 4,\n",
    "                        13: 3,\n",
    "                        14: 1,\n",
    "                        15: 3,\n",
    "                        16: 3,\n",
    "                        17: 2,\n",
    "                        18: 1,\n",
    "                        19: 3,\n",
    "                        20: 3,\n",
    "                        21: 2,\n",
    "                        22: 2,\n",
    "                        23: 2,\n",
    "                        24: 2,\n",
    "                        25: 2,\n",
    "                        26: 2,\n",
    "                        27: 2,\n",
    "                        28: 2,\n",
    "                        29: 1,\n",
    "                        30: 1,\n",
    "                        31: 3,\n",
    "                        32: 3,\n",
    "                        33: 1,\n",
    "                        34: 1,\n",
    "                        35: 1, \n",
    "                        36: 3,\n",
    "                        37: 3,\n",
    "                        38: 4,\n",
    "                        39: 2,\n",
    "                        40: 4}\n",
    "        \n",
    "        df['LP_LEBENSPHASE_FEIN_AGE'] = df['LP_LEBENSPHASE_FEIN'].map(replace_dict)\n",
    "        df.drop(['LP_LEBENSPHASE_FEIN'], axis = 1, inplace = True)\n",
    "        \n",
    "    # Dealing with OST_WEST_KZ \n",
    "    if 'OST_WEST_KZ' in df:\n",
    "        replace_dict = {'W':0,\n",
    "                        'O':1}\n",
    "        \n",
    "        df['OST_WEST_KZ'] = df['OST_WEST_KZ'].map(replace_dict)\n",
    "        \n",
    "    # Dealing with PRAEGENDE_JUGENDJAHRE\n",
    "    if 'PRAEGENDE_JUGENDJAHRE' in df:\n",
    "        replace_dict = {2: 1,\n",
    "                        3: 2,\n",
    "                        4: 2,\n",
    "                        5: 3,\n",
    "                        6: 3,\n",
    "                        7: 3,\n",
    "                        8: 4,\n",
    "                        9: 4,\n",
    "                        10: 5,\n",
    "                        11: 5,\n",
    "                        12: 5,\n",
    "                        13: 5,\n",
    "                        14: 6,\n",
    "                        15: 6}\n",
    "        \n",
    "        df['PRAEGENDE_JUGENDJAHRE_NEW'] = df['PRAEGENDE_JUGENDJAHRE'].map(replace_dict)\n",
    "        df.drop(['PRAEGENDE_JUGENDJAHRE'], axis = 1, inplace = True)\n",
    "    \n",
    "    #Dealing with WOHNLAGE\n",
    "    if 'WOHNLAGE' in df:\n",
    "        replace_dict = {0.0:3,\n",
    "                        1.0:1,\n",
    "                        2.0:2,\n",
    "                        3.0:3,\n",
    "                        4.0:4,\n",
    "                        5.0:5,\n",
    "                        7.0:3,\n",
    "                        8.0:3}\n",
    "        \n",
    "        df['WOHNLAGE_QUALITAT'] = df['WOHNLAGE'].map(replace_dict)\n",
    "        \n",
    "        replace_dict = {1.0:0,\n",
    "                        2.0:0, \n",
    "                        3.0:0, \n",
    "                        4.0:0, \n",
    "                        5.0:0, \n",
    "                        7.0:1, \n",
    "                        8.0:1}\n",
    "        \n",
    "        df['WOHNLAGE_RURAL'] = df['WOHNLAGE'].map(replace_dict)\n",
    "        df.drop(['WOHNLAGE'], axis = 1, inplace = True)\n",
    "    \n",
    "    print('Replacing the NaNs value in the dataframe with the most frequent one')\n",
    "    for feat in df:\n",
    "        most_frequent = df[feat].value_counts().idxmax()\n",
    "        df[feat] = df[feat].fillna(most_frequent)\n",
    "   \n",
    "\n",
    "    return df\n",
    "    "
   ]
  },
  {
   "cell_type": "code",
   "execution_count": 36,
   "metadata": {},
   "outputs": [
    {
     "name": "stdout",
     "output_type": "stream",
     "text": [
      "Replacing the NaNs value in the dataframe with the most frequent one\n"
     ]
    }
   ],
   "source": [
    "azdias = features_engineering(azdias)"
   ]
  },
  {
   "cell_type": "code",
   "execution_count": 37,
   "metadata": {},
   "outputs": [
    {
     "data": {
      "text/plain": [
       "0.0"
      ]
     },
     "execution_count": 37,
     "metadata": {},
     "output_type": "execute_result"
    }
   ],
   "source": [
    "#quick check if everything has gone as intended\n",
    "\n",
    "missing_pct(azdias)['percent_missing'].sum()"
   ]
  },
  {
   "cell_type": "code",
   "execution_count": 38,
   "metadata": {},
   "outputs": [
    {
     "name": "stdout",
     "output_type": "stream",
     "text": [
      "Replacing the NaNs value in the dataframe with the most frequent one\n"
     ]
    }
   ],
   "source": [
    "customers = features_engineering(customers)"
   ]
  },
  {
   "cell_type": "code",
   "execution_count": 39,
   "metadata": {},
   "outputs": [
    {
     "data": {
      "text/plain": [
       "0.0"
      ]
     },
     "execution_count": 39,
     "metadata": {},
     "output_type": "execute_result"
    }
   ],
   "source": [
    "missing_pct(customers)['percent_missing'].sum()"
   ]
  },
  {
   "cell_type": "code",
   "execution_count": 40,
   "metadata": {},
   "outputs": [
    {
     "name": "stdout",
     "output_type": "stream",
     "text": [
      "CAMEO_DEU_2015 [25 35 15  5 37 13  8  0  4 42 20 36 30 21 43 40  1 12 17 14 11 18 31 39\n",
      " 27 28  7 32 41 33 22  3 38 26 24 19 16  9  6 34 10 29 23  2]\n",
      "CAMEO_DEUG_2015 [8. 4. 2. 6. 1. 9. 5. 7. 3.]\n",
      "CJT_GESAMTTYP [2. 5. 3. 4. 1. 6.]\n",
      "D19_BANKEN_DATUM [10  5  8  6  9  1  7  4  2  3]\n",
      "D19_BANKEN_OFFLINE_DATUM [10  9  8  2  5  4  1  6  7  3]\n",
      "D19_BANKEN_ONLINE_DATUM [10  5  8  6  9  1  4  7  2  3]\n",
      "D19_GESAMT_DATUM [10  1  3  5  9  4  7  6  8  2]\n",
      "D19_GESAMT_OFFLINE_DATUM [10  6  8  9  5  2  4  1  7  3]\n",
      "D19_GESAMT_ONLINE_DATUM [10  1  3  5  9  4  7  6  8  2]\n",
      "D19_KONSUMTYP [9. 1. 4. 3. 6. 5. 2.]\n",
      "D19_TELKO_DATUM [10  6  9  8  7  5  4  2  1  3]\n",
      "D19_TELKO_OFFLINE_DATUM [10  8  9  5  6  7  4  2  3  1]\n",
      "D19_TELKO_ONLINE_DATUM [10  9  7  8  6  5  4  1  2  3]\n",
      "D19_VERSAND_DATUM [10  1  5  9  4  8  7  6  3  2]\n",
      "D19_VERSAND_OFFLINE_DATUM [10  9  6  8  5  2  1  4  7  3]\n",
      "D19_VERSAND_ONLINE_DATUM [10  1  5  9  4  8  7  6  3  2]\n",
      "D19_VERSI_DATUM [10  2  8  9  6  7  5  1  4  3]\n",
      "D19_VERSI_OFFLINE_DATUM [10  7  9  6  4  8  5  2  3  1]\n",
      "D19_VERSI_ONLINE_DATUM [10  8  9  5  6  7  4  1  2  3]\n",
      "FINANZTYP [4 1 6 5 2 3]\n",
      "GEBAEUDETYP [1. 8. 3. 2. 6. 4. 5.]\n",
      "GFK_URLAUBERTYP [10.  1.  5. 12.  9.  3.  8. 11.  4.  2.  7.  6.]\n",
      "GREEN_AVANTGARDE [0 1]\n",
      "LP_FAMILIE_FEIN [ 2.  5.  1.  0. 10.  7. 11.  3.  8.  4.  6.  9.]\n",
      "LP_FAMILIE_GROB [2. 3. 1. 0. 5. 4.]\n",
      "LP_STATUS_FEIN [ 1.  2.  3.  9.  4. 10.  5.  8.  6.  7.]\n",
      "LP_STATUS_GROB [1. 2. 4. 5. 3.]\n",
      "NATIONALITAET_KZ [1. 3. 2.]\n",
      "OST_WEST_KZ [0. 1.]\n",
      "PLZ8_BAUMAX [1. 2. 4. 5. 3.]\n",
      "SHOPPER_TYP [1. 3. 2. 0.]\n",
      "SOHO_KZ [0. 1.]\n",
      "VERS_TYP [2. 1.]\n",
      "ZABEOTYP [3 5 4 1 6 2]\n"
     ]
    }
   ],
   "source": [
    "#check if there is any categorical feature that would need engineering\n",
    "\n",
    "selected_categorical = []\n",
    "for cat in categorical:\n",
    "    if cat in azdias:\n",
    "        selected_categorical.append(cat)\n",
    "for i in selected_categorical:\n",
    "    print(i, azdias[i].unique())"
   ]
  },
  {
   "cell_type": "markdown",
   "metadata": {},
   "source": [
    "### We now have a clean dataset to work with, but the range of value can be significantly different from on column to an other, so we will need to perform some feature scaling first"
   ]
  },
  {
   "cell_type": "code",
   "execution_count": 10,
   "metadata": {},
   "outputs": [],
   "source": [
    "def scaler_tool(df):\n",
    "    '''\n",
    "    This function takes a dataframe of numbers \n",
    "    and transform it through MinMaxScaler.\n",
    "    Args: \n",
    "        df (df) : a dataframe\n",
    "    returns: \n",
    "        res_df (df) : dataframe with scaled values\n",
    "    '''\n",
    "    features_list = df.columns\n",
    "    scaler = MinMaxScaler()\n",
    "    scaler.fit(df)\n",
    "    res_df = pd.DataFrame(scaler.transform(df))\n",
    "    res_df.columns = features_list\n",
    "    \n",
    "    return res_df\n",
    "    "
   ]
  },
  {
   "cell_type": "code",
   "execution_count": 42,
   "metadata": {},
   "outputs": [],
   "source": [
    "azdias = scaler_tool(azdias)"
   ]
  },
  {
   "cell_type": "code",
   "execution_count": 43,
   "metadata": {},
   "outputs": [],
   "source": [
    "customers = scaler_tool(customers)"
   ]
  },
  {
   "cell_type": "markdown",
   "metadata": {},
   "source": [
    "### We will now check our options with dimensionality reduction"
   ]
  },
  {
   "cell_type": "code",
   "execution_count": 11,
   "metadata": {},
   "outputs": [],
   "source": [
    "def pca_model(df, n_components):\n",
    "    '''\n",
    "    This function defines a model that takes in a previously scaled dataframe and returns the result of \n",
    "    the transformation. The output is an object created post data fitting\n",
    "    Args: \n",
    "        df (df) : a dataframe\n",
    "        n_components (int) : number of components of the dataframe \n",
    "    returns: \n",
    "        model_pca (object) : a pca object fit with the df\n",
    "    '''\n",
    "    pca = PCA(n_components)\n",
    "    model_pca = pca.fit(df)\n",
    "    \n",
    "    return model_pca"
   ]
  },
  {
   "cell_type": "code",
   "execution_count": 12,
   "metadata": {},
   "outputs": [],
   "source": [
    "#explained_variance for PCA\n",
    "def explained_variance_plots(scaler, title):\n",
    "    '''\n",
    "    Function that plots the explained variance sum for each number of\n",
    "    component of the PCA\n",
    "    Args: \n",
    "        scaler (object) : a scaler object\n",
    "        title (str) : name of the dataset we will show in the plot's title \n",
    "    returns: \n",
    "        None\n",
    "    '''\n",
    "    \n",
    "    plt.plot(np.cumsum(scaler.explained_variance_ratio_))\n",
    "    plt.title(title)\n",
    "    plt.xlabel('Number of Components')\n",
    "    plt.ylabel('Explained Variance Ratio')\n",
    "    plt.grid(b=True)\n",
    "\n",
    "    plot = plt.show()"
   ]
  },
  {
   "cell_type": "code",
   "execution_count": 46,
   "metadata": {},
   "outputs": [],
   "source": [
    "n_components_azdias = len(azdias.columns)\n",
    "azdias_pca = pca_model(azdias, n_components_azdias)"
   ]
  },
  {
   "cell_type": "code",
   "execution_count": 47,
   "metadata": {},
   "outputs": [
    {
     "data": {
      "text/plain": [
       "sklearn.decomposition.pca.PCA"
      ]
     },
     "execution_count": 47,
     "metadata": {},
     "output_type": "execute_result"
    }
   ],
   "source": [
    "type(azdias_pca)"
   ]
  },
  {
   "cell_type": "code",
   "execution_count": 48,
   "metadata": {},
   "outputs": [
    {
     "data": {
      "image/png": "[encoded data removed]",
      "text/plain": [
       "<Figure size 432x288 with 1 Axes>"
      ]
     },
     "metadata": {
      "needs_background": "light"
     },
     "output_type": "display_data"
    }
   ],
   "source": [
    "explained_variance_plots(azdias_pca, 'azdias')"
   ]
  },
  {
   "cell_type": "markdown",
   "metadata": {},
   "source": [
    "### We will now choose 150 components for the features and then perform a Gap Statistic analysis on KMeans clustering to select the number of cluster we will use."
   ]
  },
  {
   "cell_type": "markdown",
   "metadata": {},
   "source": [
    "## Part 1: Customer Segmentation Report\n",
    "\n",
    "The main bulk of your analysis will come in this part of the project. Here, you should use unsupervised learning techniques to describe the relationship between the demographics of the company's existing customers and the general population of Germany. By the end of this part, you should be able to describe parts of the general population that are more likely to be part of the mail-order company's main customer base, and which parts of the general population are less so."
   ]
  },
  {
   "cell_type": "code",
   "execution_count": 49,
   "metadata": {},
   "outputs": [],
   "source": [
    "pca = PCA(150)\n",
    "\n",
    "azdias_pca = pca.fit_transform(azdias)\n",
    "customers_pca = pca.fit_transform(customers)"
   ]
  },
  {
   "cell_type": "code",
   "execution_count": 100,
   "metadata": {},
   "outputs": [],
   "source": [
    "def optimalK(data, nrefs=3, maxClusters=10):\n",
    "    \"\"\"\n",
    "    Calculates KMeans optimal K using Gap Statistic from Tibshirani, Walther, Hastie\n",
    "    Params:\n",
    "        data: ndarry of shape (n_samples, n_features)\n",
    "        nrefs: number of sample reference datasets to create\n",
    "        maxClusters: Maximum number of clusters to test for\n",
    "    Returns: (gaps, optimalK)\n",
    "    \"\"\"\n",
    "    gaps = np.zeros((len(range(1, maxClusters)),))\n",
    "    resultsdf = pd.DataFrame({'clusterCount':[], 'gap':[]})\n",
    "    for gap_index, k in enumerate(range(1, maxClusters)):\n",
    "        print('k :',k)\n",
    "        # Holder for reference dispersion results\n",
    "        refDisps = np.zeros(nrefs)\n",
    "\n",
    "        # For n references, generate random sample and perform kmeans getting resulting dispersion of each loop\n",
    "        for i in range(nrefs):\n",
    "            \n",
    "            # Create new random reference set\n",
    "            randomReference = np.random.random_sample(size=data.shape)\n",
    "            \n",
    "            # Fit to it\n",
    "            km = KMeans(k)\n",
    "            km.fit(randomReference)\n",
    "            \n",
    "            refDisp = km.inertia_\n",
    "            refDisps[i] = refDisp\n",
    "\n",
    "        # Fit cluster to original data and create dispersion\n",
    "        km = KMeans(k)\n",
    "        km.fit(data)\n",
    "        \n",
    "        origDisp = km.inertia_\n",
    "\n",
    "        # Calculate gap statistic\n",
    "        gap = np.log(np.mean(refDisps)) - np.log(origDisp)\n",
    "\n",
    "        # Assign this loop's gap statistic to gaps\n",
    "        gaps[gap_index] = gap\n",
    "        \n",
    "        resultsdf = resultsdf.append({'clusterCount':k, 'gap':gap}, ignore_index=True)\n",
    "\n",
    "    return (gaps.argmax() + 1, resultsdf)  # Plus 1 because index of 0 means 1 cluster is optimal, index 2 = 3 clusters are optimal"
   ]
  },
  {
   "cell_type": "code",
   "execution_count": 101,
   "metadata": {},
   "outputs": [
    {
     "name": "stdout",
     "output_type": "stream",
     "text": [
      "k : 1\n",
      "k : 2\n",
      "k : 3\n",
      "k : 4\n",
      "k : 5\n",
      "k : 6\n",
      "k : 7\n",
      "k : 8\n",
      "k : 9\n",
      "k : 10\n",
      "Optimal k is:  9\n"
     ]
    }
   ],
   "source": [
    "k, gapdf = optimalK(azdias_pca, nrefs=5, maxClusters=11)\n",
    "print('Optimal k is: ', k)"
   ]
  },
  {
   "cell_type": "code",
   "execution_count": 95,
   "metadata": {},
   "outputs": [
    {
     "data": {
      "image/png": "[encoded data removed]",
      "text/plain": [
       "<Figure size 432x288 with 1 Axes>"
      ]
     },
     "metadata": {
      "needs_background": "light"
     },
     "output_type": "display_data"
    }
   ],
   "source": [
    "plt.plot(gapdf.clusterCount, gapdf.gap, linewidth=3)\n",
    "plt.scatter(gapdf[gapdf.clusterCount == k].clusterCount, gapdf[gapdf.clusterCount == k].gap, s=250, c='r')\n",
    "plt.grid(True)\n",
    "plt.xlabel('Cluster Count')\n",
    "plt.ylabel('Gap Value')\n",
    "plt.title('Gap Values by Cluster Count')\n",
    "plt.show()"
   ]
  },
  {
   "cell_type": "markdown",
   "metadata": {},
   "source": [
    "So the optimal number of cluster is 9"
   ]
  },
  {
   "cell_type": "code",
   "execution_count": 59,
   "metadata": {},
   "outputs": [],
   "source": [
    "kmeans = KMeans(9)\n",
    "model = kmeans.fit(azdias_pca)"
   ]
  },
  {
   "cell_type": "code",
   "execution_count": 61,
   "metadata": {},
   "outputs": [],
   "source": [
    "cluster = pd.DataFrame()\n",
    "cluster['LNR'] = azdias.index.values\n",
    "cluster['cluster'] = model.labels_"
   ]
  },
  {
   "cell_type": "code",
   "execution_count": 62,
   "metadata": {},
   "outputs": [],
   "source": [
    "from collections import Counter\n",
    "\n",
    "azdias_labels = kmeans.labels_\n",
    "customers_labels = kmeans.labels_\n",
    "model_feat = list(azdias.columns) \n",
    "cust_feat = list(customers.columns)\n",
    "model_feat_df = pd.DataFrame() \n",
    "model_feat_df['model_feat'] = model_feat"
   ]
  },
  {
   "cell_type": "code",
   "execution_count": 63,
   "metadata": {},
   "outputs": [
    {
     "data": {
      "text/html": [
       "<div>\n",
       "<style scoped>\n",
       "    .dataframe tbody tr th:only-of-type {\n",
       "        vertical-align: middle;\n",
       "    }\n",
       "\n",
       "    .dataframe tbody tr th {\n",
       "        vertical-align: top;\n",
       "    }\n",
       "\n",
       "    .dataframe thead th {\n",
       "        text-align: right;\n",
       "    }\n",
       "</style>\n",
       "<table border=\"1\" class=\"dataframe\">\n",
       "  <thead>\n",
       "    <tr style=\"text-align: right;\">\n",
       "      <th></th>\n",
       "      <th>% of data</th>\n",
       "      <th>Cluster</th>\n",
       "      <th>DataSet</th>\n",
       "    </tr>\n",
       "  </thead>\n",
       "  <tbody>\n",
       "    <tr>\n",
       "      <th>2</th>\n",
       "      <td>19.017803</td>\n",
       "      <td>2</td>\n",
       "      <td>Customers Data</td>\n",
       "    </tr>\n",
       "    <tr>\n",
       "      <th>8</th>\n",
       "      <td>3.514704</td>\n",
       "      <td>8</td>\n",
       "      <td>Customers Data</td>\n",
       "    </tr>\n",
       "    <tr>\n",
       "      <th>5</th>\n",
       "      <td>11.195291</td>\n",
       "      <td>5</td>\n",
       "      <td>Customers Data</td>\n",
       "    </tr>\n",
       "    <tr>\n",
       "      <th>1</th>\n",
       "      <td>16.049924</td>\n",
       "      <td>1</td>\n",
       "      <td>Customers Data</td>\n",
       "    </tr>\n",
       "    <tr>\n",
       "      <th>6</th>\n",
       "      <td>15.796339</td>\n",
       "      <td>6</td>\n",
       "      <td>Customers Data</td>\n",
       "    </tr>\n",
       "    <tr>\n",
       "      <th>3</th>\n",
       "      <td>3.592971</td>\n",
       "      <td>3</td>\n",
       "      <td>Customers Data</td>\n",
       "    </tr>\n",
       "    <tr>\n",
       "      <th>0</th>\n",
       "      <td>7.685806</td>\n",
       "      <td>0</td>\n",
       "      <td>Customers Data</td>\n",
       "    </tr>\n",
       "    <tr>\n",
       "      <th>4</th>\n",
       "      <td>0.301067</td>\n",
       "      <td>4</td>\n",
       "      <td>Customers Data</td>\n",
       "    </tr>\n",
       "    <tr>\n",
       "      <th>7</th>\n",
       "      <td>22.846096</td>\n",
       "      <td>7</td>\n",
       "      <td>Customers Data</td>\n",
       "    </tr>\n",
       "    <tr>\n",
       "      <th>4</th>\n",
       "      <td>8.717142</td>\n",
       "      <td>4</td>\n",
       "      <td>General Population</td>\n",
       "    </tr>\n",
       "    <tr>\n",
       "      <th>7</th>\n",
       "      <td>10.928041</td>\n",
       "      <td>7</td>\n",
       "      <td>General Population</td>\n",
       "    </tr>\n",
       "    <tr>\n",
       "      <th>5</th>\n",
       "      <td>14.144191</td>\n",
       "      <td>5</td>\n",
       "      <td>General Population</td>\n",
       "    </tr>\n",
       "    <tr>\n",
       "      <th>2</th>\n",
       "      <td>12.256331</td>\n",
       "      <td>2</td>\n",
       "      <td>General Population</td>\n",
       "    </tr>\n",
       "    <tr>\n",
       "      <th>6</th>\n",
       "      <td>9.356826</td>\n",
       "      <td>6</td>\n",
       "      <td>General Population</td>\n",
       "    </tr>\n",
       "    <tr>\n",
       "      <th>1</th>\n",
       "      <td>9.895862</td>\n",
       "      <td>1</td>\n",
       "      <td>General Population</td>\n",
       "    </tr>\n",
       "    <tr>\n",
       "      <th>8</th>\n",
       "      <td>13.826761</td>\n",
       "      <td>8</td>\n",
       "      <td>General Population</td>\n",
       "    </tr>\n",
       "    <tr>\n",
       "      <th>0</th>\n",
       "      <td>14.543306</td>\n",
       "      <td>0</td>\n",
       "      <td>General Population</td>\n",
       "    </tr>\n",
       "    <tr>\n",
       "      <th>3</th>\n",
       "      <td>6.331538</td>\n",
       "      <td>3</td>\n",
       "      <td>General Population</td>\n",
       "    </tr>\n",
       "  </tbody>\n",
       "</table>\n",
       "</div>"
      ],
      "text/plain": [
       "   % of data  Cluster             DataSet\n",
       "2  19.017803        2      Customers Data\n",
       "8   3.514704        8      Customers Data\n",
       "5  11.195291        5      Customers Data\n",
       "1  16.049924        1      Customers Data\n",
       "6  15.796339        6      Customers Data\n",
       "3   3.592971        3      Customers Data\n",
       "0   7.685806        0      Customers Data\n",
       "4   0.301067        4      Customers Data\n",
       "7  22.846096        7      Customers Data\n",
       "4   8.717142        4  General Population\n",
       "7  10.928041        7  General Population\n",
       "5  14.144191        5  General Population\n",
       "2  12.256331        2  General Population\n",
       "6   9.356826        6  General Population\n",
       "1   9.895862        1  General Population\n",
       "8  13.826761        8  General Population\n",
       "0  14.543306        0  General Population\n",
       "3   6.331538        3  General Population"
      ]
     },
     "execution_count": 63,
     "metadata": {},
     "output_type": "execute_result"
    }
   ],
   "source": [
    "model_feat_notin_cust = [feat for feat in model_feat if feat not in cust_feat] \n",
    "len(model_feat_notin_cust)\n",
    "\n",
    "customers_labels = kmeans.predict(customers_pca)\n",
    "\n",
    "counts_customer = Counter(customers_labels) \n",
    "n_customers = customers_pca.shape[0]\n",
    "\n",
    "customer_freqs = {label: 100*(freq / n_customers) for label, freq in counts_customer.items()}\n",
    "\n",
    "counts_population = Counter(azdias_labels) \n",
    "n_population = azdias_pca.shape[0]\n",
    "\n",
    "population_freqs = {label: 100*(freq / n_population) for label, freq in counts_population.items()}\n",
    "\n",
    "customer_clusters = pd.DataFrame.from_dict(customer_freqs, orient='index', columns=['% of data']) \n",
    "customer_clusters['Cluster'] = customer_clusters.index \n",
    "customer_clusters['DataSet'] = 'Customers Data' \n",
    "population_clusters = pd.DataFrame.from_dict(population_freqs, orient='index', columns=['% of data']) \n",
    "population_clusters['Cluster'] = population_clusters.index \n",
    "population_clusters['DataSet'] = 'General Population'\n",
    "\n",
    "all_clusters = pd.concat([customer_clusters, population_clusters]) "
   ]
  },
  {
   "cell_type": "code",
   "execution_count": 64,
   "metadata": {},
   "outputs": [
    {
     "data": {
      "image/png": "[encoded data removed]",
      "text/plain": [
       "<Figure size 491.375x360 with 1 Axes>"
      ]
     },
     "metadata": {
      "needs_background": "light"
     },
     "output_type": "display_data"
    }
   ],
   "source": [
    "sns.catplot(x='Cluster', y='% of data', hue='DataSet', data=all_clusters, kind='bar')\n",
    "plt.show()"
   ]
  },
  {
   "cell_type": "markdown",
   "metadata": {},
   "source": [
    "## Part 2: Supervised Learning Model\n",
    "\n",
    "Now that you've found which parts of the population are more likely to be customers of the mail-order company, it's time to build a prediction model. Each of the rows in the \"MAILOUT\" data files represents an individual that was targeted for a mailout campaign. Ideally, we should be able to use the demographic information from each individual to decide whether or not it will be worth it to include that person in the campaign.\n",
    "\n",
    "The \"MAILOUT\" data has been split into two approximately equal parts, each with almost 43 000 data rows. In this part, you can verify your model with the \"TRAIN\" partition, which includes a column, \"RESPONSE\", that states whether or not a person became a customer of the company following the campaign. In the next part, you'll need to create predictions on the \"TEST\" partition, where the \"RESPONSE\" column has been withheld."
   ]
  },
  {
   "cell_type": "code",
   "execution_count": 11,
   "metadata": {},
   "outputs": [
    {
     "name": "stderr",
     "output_type": "stream",
     "text": [
      "c:\\users\\lanth\\appdata\\local\\programs\\python\\python37\\lib\\site-packages\\IPython\\core\\interactiveshell.py:3057: DtypeWarning: Columns (19,20) have mixed types. Specify dtype option on import or set low_memory=False.\n",
      "  interactivity=interactivity, compiler=compiler, result=result)\n"
     ]
    }
   ],
   "source": [
    "# load in the data\n",
    "\n",
    "mailout_data = pd.read_csv('mailout.csv', sep=',')\n",
    "mailout_test = pd.read_csv('mailout_test.csv', sep=',')"
   ]
  },
  {
   "cell_type": "code",
   "execution_count": 12,
   "metadata": {},
   "outputs": [
    {
     "name": "stdout",
     "output_type": "stream",
     "text": [
      "1.2383036171500394 %\n"
     ]
    }
   ],
   "source": [
    "#How much in % is there of response\n",
    "\n",
    "print(len(list(mailout_data.loc[mailout_data['RESPONSE'] == 1].index))/len(mailout_data)*100,\"%\")"
   ]
  },
  {
   "cell_type": "markdown",
   "metadata": {},
   "source": [
    "### It appears that the class are very imbalanced as there is only around 1.24% of response, so the accuracy won't be a good metric to evaluate the model performances"
   ]
  },
  {
   "cell_type": "code",
   "execution_count": 13,
   "metadata": {},
   "outputs": [],
   "source": [
    "#Fixing Cameo columns\n",
    "\n",
    "mailout_data = cameo_fix(mailout_data)\n",
    "mailout_test = cameo_fix(mailout_test)"
   ]
  },
  {
   "cell_type": "code",
   "execution_count": 14,
   "metadata": {},
   "outputs": [],
   "source": [
    "#Replacing missing/unknowns values with nan\n",
    "\n",
    "missing_to_nans(mailout_data, attributes_unknown)\n",
    "missing_to_nans(mailout_test, attributes_unknown)"
   ]
  },
  {
   "cell_type": "code",
   "execution_count": 15,
   "metadata": {},
   "outputs": [],
   "source": [
    "mailout_data_missing = missing_pct(mailout_data)"
   ]
  },
  {
   "cell_type": "code",
   "execution_count": 16,
   "metadata": {},
   "outputs": [],
   "source": [
    "mailout_test_missing = missing_pct(mailout_test)"
   ]
  },
  {
   "cell_type": "code",
   "execution_count": 16,
   "metadata": {},
   "outputs": [],
   "source": [
    "mailout_x=[]\n",
    "mailout_y=[]\n",
    "for cap in range(101):\n",
    "    mailout_x.append(cap)\n",
    "    mailout_y.append(len(feature_cap(mailout_data_missing, cap)))"
   ]
  },
  {
   "cell_type": "code",
   "execution_count": 17,
   "metadata": {},
   "outputs": [],
   "source": [
    "mailout_test_x=[]\n",
    "mailout_test_y=[]\n",
    "for cap in range(101):\n",
    "    mailout_test_x.append(cap)\n",
    "    mailout_test_y.append(len(feature_cap(mailout_test_missing, cap)))"
   ]
  },
  {
   "cell_type": "code",
   "execution_count": 18,
   "metadata": {},
   "outputs": [
    {
     "data": {
      "image/png": "[encoded data removed]",
      "text/plain": [
       "<Figure size 432x288 with 1 Axes>"
      ]
     },
     "metadata": {
      "needs_background": "light"
     },
     "output_type": "display_data"
    }
   ],
   "source": [
    "plt.plot(mailout_x, mailout_y)\n",
    "plt.xlabel('% of missing value')\n",
    "plt.xticks(np.arange(0, 110, step=10))\n",
    "plt.ylabel('Number of features')\n",
    "plt.title('Mailout')\n",
    "plt.grid(b=True)\n",
    "plt.show()"
   ]
  },
  {
   "cell_type": "code",
   "execution_count": 19,
   "metadata": {},
   "outputs": [
    {
     "data": {
      "image/png": "[encoded data removed]",
      "text/plain": [
       "<Figure size 432x288 with 1 Axes>"
      ]
     },
     "metadata": {
      "needs_background": "light"
     },
     "output_type": "display_data"
    }
   ],
   "source": [
    "plt.plot(mailout_test_x, mailout_test_y)\n",
    "plt.xlabel('% of missing value')\n",
    "plt.xticks(np.arange(0, 110, step=10))\n",
    "plt.ylabel('Number of features')\n",
    "plt.title('Mailout test')\n",
    "plt.grid(b=True)\n",
    "plt.show()"
   ]
  },
  {
   "cell_type": "code",
   "execution_count": 17,
   "metadata": {},
   "outputs": [],
   "source": [
    "#Computing the list of columns in mailout_data that have less than 30% of missing values\n",
    "\n",
    "mailout_data_missing = missing_pct(mailout_data)\n",
    "mailout_data_features_selected = feature_cap(mailout_data_missing, 30)"
   ]
  },
  {
   "cell_type": "code",
   "execution_count": 18,
   "metadata": {},
   "outputs": [],
   "source": [
    "#Computing the list of columns in mailout_test that have less than 30% of missing values\n",
    "\n",
    "mailout_test_missing = missing_pct(mailout_test)\n",
    "mailout_test_features_selected = feature_cap(mailout_test_missing, 30)"
   ]
  },
  {
   "cell_type": "code",
   "execution_count": 19,
   "metadata": {},
   "outputs": [
    {
     "name": "stdout",
     "output_type": "stream",
     "text": [
      "358\n",
      "357\n"
     ]
    }
   ],
   "source": [
    "print(len(mailout_data_features_selected))\n",
    "print(len(mailout_test_features_selected))"
   ]
  },
  {
   "cell_type": "code",
   "execution_count": 20,
   "metadata": {},
   "outputs": [
    {
     "data": {
      "text/plain": [
       "['RESPONSE']"
      ]
     },
     "execution_count": 20,
     "metadata": {},
     "output_type": "execute_result"
    }
   ],
   "source": [
    "list(set(mailout_data_features_selected) - set(mailout_test_features_selected))"
   ]
  },
  {
   "cell_type": "code",
   "execution_count": 21,
   "metadata": {},
   "outputs": [
    {
     "data": {
      "text/plain": [
       "[]"
      ]
     },
     "execution_count": 21,
     "metadata": {},
     "output_type": "execute_result"
    }
   ],
   "source": [
    "list(set(mailout_test_features_selected) - set(mailout_data_features_selected))"
   ]
  },
  {
   "cell_type": "code",
   "execution_count": 22,
   "metadata": {},
   "outputs": [],
   "source": [
    "mailout_data = mailout_data[mailout_data_features_selected]"
   ]
  },
  {
   "cell_type": "code",
   "execution_count": 23,
   "metadata": {},
   "outputs": [],
   "source": [
    "mailout_test = mailout_test[mailout_test_features_selected]"
   ]
  },
  {
   "cell_type": "markdown",
   "metadata": {},
   "source": [
    "### So we have the same columns exept for the RESPONSE that is not in the test dataset"
   ]
  },
  {
   "cell_type": "code",
   "execution_count": 25,
   "metadata": {},
   "outputs": [
    {
     "name": "stdout",
     "output_type": "stream",
     "text": [
      "Replacing the NaNs value in the dataframe with the most frequent one\n",
      "Replacing the NaNs value in the dataframe with the most frequent one\n"
     ]
    }
   ],
   "source": [
    "mailout_data = features_engineering(mailout_data)\n",
    "mailout_test = features_engineering(mailout_test)"
   ]
  },
  {
   "cell_type": "code",
   "execution_count": 26,
   "metadata": {},
   "outputs": [],
   "source": [
    "mailout_train_X = mailout_data.drop(['RESPONSE'], inplace=False, axis=1)"
   ]
  },
  {
   "cell_type": "code",
   "execution_count": 28,
   "metadata": {},
   "outputs": [],
   "source": [
    "mailout_train_y = mailout_data['RESPONSE']"
   ]
  },
  {
   "cell_type": "code",
   "execution_count": 29,
   "metadata": {},
   "outputs": [],
   "source": [
    "mailout_train_X = mailout_train_X.drop(['LNR'], inplace=False, axis=1)"
   ]
  },
  {
   "cell_type": "code",
   "execution_count": 30,
   "metadata": {},
   "outputs": [],
   "source": [
    "mailout_test_X = mailout_test.drop(['LNR'], inplace=False, axis=1)"
   ]
  },
  {
   "cell_type": "code",
   "execution_count": 31,
   "metadata": {},
   "outputs": [
    {
     "data": {
      "text/plain": [
       "(42962, 358)"
      ]
     },
     "execution_count": 31,
     "metadata": {},
     "output_type": "execute_result"
    }
   ],
   "source": [
    "mailout_train_X.shape"
   ]
  },
  {
   "cell_type": "code",
   "execution_count": 30,
   "metadata": {},
   "outputs": [
    {
     "data": {
      "text/plain": [
       "(42833, 358)"
      ]
     },
     "execution_count": 30,
     "metadata": {},
     "output_type": "execute_result"
    }
   ],
   "source": [
    "mailout_test_X.shape"
   ]
  },
  {
   "cell_type": "code",
   "execution_count": 32,
   "metadata": {},
   "outputs": [],
   "source": [
    "scaler = MinMaxScaler()\n",
    "scaler.fit(mailout_train_X.astype(float))\n",
    "\n",
    "mailout_train_X_scaled = scaler.transform(mailout_train_X)\n",
    "mailout_test_X_scaled = scaler.transform(mailout_test_X)"
   ]
  },
  {
   "cell_type": "code",
   "execution_count": 32,
   "metadata": {},
   "outputs": [],
   "source": [
    "seed = 42"
   ]
  },
  {
   "cell_type": "code",
   "execution_count": 69,
   "metadata": {},
   "outputs": [],
   "source": [
    "models = [('MLP', MLPClassifier(random_state=seed)),\n",
    "          ('LR', LogisticRegression(solver='liblinear', random_state=seed)),\n",
    "          ('RF', RandomForestClassifier(n_estimators=250, random_state=seed)),\n",
    "          ('LGBM', lgb.LGBMClassifier(random_state=seed)),\n",
    "          ('GB', GradientBoostingClassifier(random_state=seed)),\n",
    "          ('XGB', xgb.XGBClassifier(random_state=seed))]"
   ]
  },
  {
   "cell_type": "code",
   "execution_count": 54,
   "metadata": {},
   "outputs": [],
   "source": [
    "def plot_learning_curve(estimator, title, X, y, ylim=None, cv=None,\n",
    "                        n_jobs=1, train_sizes=np.linspace(.1, 1.0, 10)):\n",
    "    \"\"\"\n",
    "    Generate a simple plot of the test and traning learning curve.\n",
    "\n",
    "    Parameters\n",
    "    ----------\n",
    "    estimator : object type that implements the \"fit\" and \"predict\" methods\n",
    "        An object of that type which is cloned for each validation.\n",
    "\n",
    "    title : string\n",
    "        Title for the chart.\n",
    "\n",
    "    X : array-like, shape (n_samples, n_features)\n",
    "        Training vector, where n_samples is the number of samples and\n",
    "        n_features is the number of features.\n",
    "\n",
    "    y : array-like, shape (n_samples) or (n_samples, n_features), optional\n",
    "        Target relative to X for classification or regression;\n",
    "        None for unsupervised learning.\n",
    "\n",
    "    ylim : tuple, shape (ymin, ymax), optional\n",
    "        Defines minimum and maximum yvalues plotted.\n",
    "\n",
    "    cv : integer, cross-validation generator, optional\n",
    "        If an integer is passed, it is the number of folds (defaults to 3).\n",
    "        Specific cross-validation objects can be passed, see\n",
    "        sklearn.cross_validation module for the list of possible objects\n",
    "\n",
    "    n_jobs : integer, optional\n",
    "        Number of jobs to run in parallel (default 1).\n",
    "    \n",
    "    return : float, the test score mean\n",
    "    \"\"\"\n",
    "    plt.figure()\n",
    "    plt.title(\"Learning curve ({})\".format(title))\n",
    "    if ylim is not None:\n",
    "        plt.ylim(*ylim)\n",
    "    plt.xlabel(\"Training examples\")\n",
    "    plt.ylabel(\"Score\")\n",
    "    train_sizes, train_scores, test_scores = learning_curve(\n",
    "        estimator, X, y, cv=cv, n_jobs=n_jobs, train_sizes=train_sizes, scoring = 'roc_auc')\n",
    "    train_scores_mean = np.mean(train_scores, axis=1)\n",
    "    train_scores_std = np.std(train_scores, axis=1)\n",
    "    test_scores_mean = np.mean(test_scores, axis=1)\n",
    "    test_scores_std = np.std(test_scores, axis=1)\n",
    "    plt.grid()\n",
    "\n",
    "    plt.fill_between(train_sizes, train_scores_mean - train_scores_std,\n",
    "                     train_scores_mean + train_scores_std, alpha=0.1,\n",
    "                     color=\"r\")\n",
    "    plt.fill_between(train_sizes, test_scores_mean - test_scores_std,\n",
    "                     test_scores_mean + test_scores_std, alpha=0.1, color=\"g\")\n",
    "    plt.plot(train_sizes, train_scores_mean, 'o-', color=\"r\",\n",
    "             label=\"Training score\")\n",
    "    plt.plot(train_sizes, test_scores_mean, 'o-', color=\"g\",\n",
    "             label=\"Cross-validation score\")\n",
    "\n",
    "    plt.legend(loc=\"best\")\n",
    "    plt.yticks(np.arange(0.20, 1.1, 0.1))\n",
    "    \n",
    "    plt.show()\n",
    "    \n",
    "    return test_scores_mean[-1]"
   ]
  },
  {
   "cell_type": "code",
   "execution_count": 56,
   "metadata": {
    "scrolled": true
   },
   "outputs": [
    {
     "data": {
      "image/png": "[encoded data removed]",
      "text/plain": [
       "<Figure size 432x288 with 1 Axes>"
      ]
     },
     "metadata": {
      "needs_background": "light"
     },
     "output_type": "display_data"
    },
    {
     "data": {
      "image/png": "[encoded data removed]",
      "text/plain": [
       "<Figure size 432x288 with 1 Axes>"
      ]
     },
     "metadata": {
      "needs_background": "light"
     },
     "output_type": "display_data"
    },
    {
     "data": {
      "image/png": "[encoded data removed]",
      "text/plain": [
       "<Figure size 432x288 with 1 Axes>"
      ]
     },
     "metadata": {
      "needs_background": "light"
     },
     "output_type": "display_data"
    },
    {
     "data": {
      "image/png": "[encoded data removed]",
      "text/plain": [
       "<Figure size 432x288 with 1 Axes>"
      ]
     },
     "metadata": {
      "needs_background": "light"
     },
     "output_type": "display_data"
    },
    {
     "data": {
      "image/png": "[encoded data removed]",
      "text/plain": [
       "<Figure size 432x288 with 1 Axes>"
      ]
     },
     "metadata": {
      "needs_background": "light"
     },
     "output_type": "display_data"
    },
    {
     "name": "stderr",
     "output_type": "stream",
     "text": [
      "c:\\users\\lanth\\appdata\\local\\programs\\python\\python37\\lib\\site-packages\\joblib\\externals\\loky\\process_executor.py:706: UserWarning: A worker stopped while some jobs were given to the executor. This can be caused by a too short worker timeout or by a memory leak.\n",
      "  \"timeout or by a memory leak.\", UserWarning\n"
     ]
    },
    {
     "data": {
      "image/png": "[encoded data removed]",
      "text/plain": [
       "<Figure size 432x288 with 1 Axes>"
      ]
     },
     "metadata": {
      "needs_background": "light"
     },
     "output_type": "display_data"
    },
    {
     "name": "stdout",
     "output_type": "stream",
     "text": [
      "Wall time: 30min 41s\n"
     ]
    }
   ],
   "source": [
    "%%time\n",
    "\n",
    "cv = StratifiedKFold(n_splits=5, random_state=42, shuffle=True)\n",
    "\n",
    "models_list = [\n",
    "    [MLPClassifier(random_state=seed), \"Multilayer Perceptron\"],\n",
    "    [LogisticRegression(solver='liblinear', random_state=seed), \"Logistic Regression\"],\n",
    "    [RandomForestClassifier(n_estimators=200, random_state=seed), \"Random Forest\"],\n",
    "    [lgb.LGBMClassifier(random_state=seed), \"Light GBM\"],\n",
    "    [GradientBoostingClassifier(random_state=seed), \"Gradient Boosting\"],\n",
    "    [xgb.XGBClassifier(random_state=seed), \"XGBoost\"]]\n",
    "\n",
    "score = []\n",
    "model = []\n",
    "for estimator, title in models_list:\n",
    "\n",
    "    score.append(\n",
    "        round(\n",
    "            plot_learning_curve(estimator, title, mailout_train_X_scaled, mailout_train_y, cv=cv, n_jobs=5),3))\n",
    "    model.append(title)\n",
    "    \n",
    "score_pd = pd.DataFrame({'Model':model, 'Score': score})"
   ]
  },
  {
   "cell_type": "code",
   "execution_count": 51,
   "metadata": {},
   "outputs": [
    {
     "data": {
      "text/html": [
       "<div>\n",
       "<style scoped>\n",
       "    .dataframe tbody tr th:only-of-type {\n",
       "        vertical-align: middle;\n",
       "    }\n",
       "\n",
       "    .dataframe tbody tr th {\n",
       "        vertical-align: top;\n",
       "    }\n",
       "\n",
       "    .dataframe thead th {\n",
       "        text-align: right;\n",
       "    }\n",
       "</style>\n",
       "<table border=\"1\" class=\"dataframe\">\n",
       "  <thead>\n",
       "    <tr style=\"text-align: right;\">\n",
       "      <th></th>\n",
       "      <th>Model</th>\n",
       "      <th>Score</th>\n",
       "    </tr>\n",
       "  </thead>\n",
       "  <tbody>\n",
       "    <tr>\n",
       "      <th>0</th>\n",
       "      <td>Multilayer Perceptron</td>\n",
       "      <td>0.582</td>\n",
       "    </tr>\n",
       "    <tr>\n",
       "      <th>1</th>\n",
       "      <td>Logistic Regression</td>\n",
       "      <td>0.668</td>\n",
       "    </tr>\n",
       "    <tr>\n",
       "      <th>2</th>\n",
       "      <td>Random Forest</td>\n",
       "      <td>0.625</td>\n",
       "    </tr>\n",
       "    <tr>\n",
       "      <th>3</th>\n",
       "      <td>Light GBM</td>\n",
       "      <td>0.716</td>\n",
       "    </tr>\n",
       "    <tr>\n",
       "      <th>4</th>\n",
       "      <td>Gradient Boosting</td>\n",
       "      <td>0.754</td>\n",
       "    </tr>\n",
       "    <tr>\n",
       "      <th>5</th>\n",
       "      <td>XGBoost</td>\n",
       "      <td>0.755</td>\n",
       "    </tr>\n",
       "  </tbody>\n",
       "</table>\n",
       "</div>"
      ],
      "text/plain": [
       "                   Model  Score\n",
       "0  Multilayer Perceptron  0.582\n",
       "1    Logistic Regression  0.668\n",
       "2          Random Forest  0.625\n",
       "3              Light GBM  0.716\n",
       "4      Gradient Boosting  0.754\n",
       "5                XGBoost  0.755"
      ]
     },
     "execution_count": 51,
     "metadata": {},
     "output_type": "execute_result"
    }
   ],
   "source": [
    "score_pd"
   ]
  },
  {
   "cell_type": "markdown",
   "metadata": {},
   "source": [
    "### With the given results, we will now tune the xgboost hyperparameters using BayesSearchCV because Random search would takes to much time to achieve the same results"
   ]
  },
  {
   "cell_type": "code",
   "execution_count": 56,
   "metadata": {},
   "outputs": [],
   "source": [
    "bayes_cv_tuner_xg = BayesSearchCV(\n",
    "    estimator = xgb.XGBClassifier(\n",
    "        n_jobs = -1,\n",
    "        objective = 'binary:logistic',\n",
    "        eval_metric = 'auc',\n",
    "        verbosity=1,\n",
    "    ),\n",
    "    search_spaces = {\n",
    "        'booster': ['gbtree','dart'],\n",
    "        'learning_rate': (0.001, 1.0, 'log-uniform'),\n",
    "        'max_depth': (1, 10),\n",
    "        'n_estimators': (10, 500),\n",
    "        'min_child_weight': (1, 10),\n",
    "        'gamma': (0.0, 1.0, 'uniform'),\n",
    "        'subsample': (0.5, 1.0, 'uniform'),\n",
    "        'colsample_bytree': (0.5, 1.0, 'uniform'),\n",
    "        'reg_alpha': (1e-10, 1.0, 'log-uniform'),\n",
    "        'scale_pos_weight': (1,100)\n",
    "        \n",
    "    },    \n",
    "    scoring = 'roc_auc',\n",
    "    cv = StratifiedKFold(\n",
    "        n_splits=5,\n",
    "        shuffle=True,\n",
    "        random_state= seed\n",
    "    ),\n",
    "    n_jobs = -1,\n",
    "    n_iter = 200,   \n",
    "    verbose = 0,\n",
    "    refit = True,\n",
    "    random_state = np.random.RandomState(50)\n",
    ")"
   ]
  },
  {
   "cell_type": "code",
   "execution_count": 58,
   "metadata": {},
   "outputs": [],
   "source": [
    "def status_print(optim_result):\n",
    "    \"\"\"Status callback durring bayesian hyperparameter search\"\"\"\n",
    "    \n",
    "    # Get all the models tested so far in DataFrame format },\n",
    "    all_models = pd.DataFrame(bayes_cv_tuner_xg.cv_results_)    \n",
    "    \n",
    "    # Get current parameters and the best parameters    \n",
    "    best_params = pd.Series(bayes_cv_tuner_xg.best_params_)\n",
    "    \n",
    "    print('Model #{}\\nBest ROC-AUC: {}\\nBest params: {}\\n'.format(\n",
    "        len(all_models),\n",
    "        np.round(bayes_cv_tuner_xg.best_score_, 4),\n",
    "        bayes_cv_tuner_xg.best_params_\n",
    "    ))    \n",
    "    \n",
    "    # Save all model results\n",
    "    clf_name = bayes_cv_tuner_xg.estimator.__class__.__name__\n",
    "    all_models.to_csv(clf_name+\"_cv_results.csv\")"
   ]
  },
  {
   "cell_type": "code",
   "execution_count": 42,
   "metadata": {},
   "outputs": [
    {
     "name": "stdout",
     "output_type": "stream",
     "text": [
      "Model #1\n",
      "Best ROC-AUC: 0.6413\n",
      "Best params: OrderedDict([('booster', 'gbtree'), ('colsample_bylevel', 0.7185117255798916), ('colsample_bytree', 0.5828561281284081), ('colsample_node', 0.5603597791895552), ('gamma', 0.4382868217830673), ('learning_rate', 0.14997133845209726), ('max_depth', 10), ('min_child_weight', 10), ('n_estimators', 418), ('reg_alpha', 2.9429270136817356e-06), ('scale_pos_weight', 77), ('subsample', 0.627225632603845)])\n",
      "\n",
      "Wall time: 5min 27s\n"
     ]
    }
   ],
   "source": [
    "%%time\n",
    "result_xgb = bayes_cv_tuner_xg.fit(mailout_train_X_scaled, mailout_train_y, callback=status_print)"
   ]
  },
  {
   "cell_type": "code",
   "execution_count": 59,
   "metadata": {},
   "outputs": [
    {
     "name": "stdout",
     "output_type": "stream",
     "text": [
      "Model #1\n",
      "Best ROC-AUC: 0.9885\n",
      "Best params: OrderedDict([('booster', 'dart'), ('colsample_bytree', 0.7256080813960445), ('gamma', 0.5005020213127345), ('learning_rate', 0.49358830548776716), ('max_depth', 1), ('min_child_weight', 5), ('n_estimators', 399), ('reg_alpha', 7.001696412022888e-07), ('scale_pos_weight', 2), ('subsample', 0.7236051016015188)])\n",
      "\n",
      "Model #2\n",
      "Best ROC-AUC: 0.9887\n",
      "Best params: OrderedDict([('booster', 'dart'), ('colsample_bytree', 0.9918168281236197), ('gamma', 0.8878029074840855), ('learning_rate', 0.06275790527395109), ('max_depth', 3), ('min_child_weight', 6), ('n_estimators', 415), ('reg_alpha', 0.0339162859587761), ('scale_pos_weight', 67), ('subsample', 0.5099129795787991)])\n",
      "\n",
      "Model #3\n",
      "Best ROC-AUC: 0.9909\n",
      "Best params: OrderedDict([('booster', 'gbtree'), ('colsample_bytree', 0.5313631374557678), ('gamma', 0.47827923423293395), ('learning_rate', 0.15997966580324138), ('max_depth', 8), ('min_child_weight', 7), ('n_estimators', 417), ('reg_alpha', 3.6092959690539596e-07), ('scale_pos_weight', 21), ('subsample', 0.7368521016623355)])\n",
      "\n",
      "Model #4\n",
      "Best ROC-AUC: 0.9909\n",
      "Best params: OrderedDict([('booster', 'gbtree'), ('colsample_bytree', 0.5313631374557678), ('gamma', 0.47827923423293395), ('learning_rate', 0.15997966580324138), ('max_depth', 8), ('min_child_weight', 7), ('n_estimators', 417), ('reg_alpha', 3.6092959690539596e-07), ('scale_pos_weight', 21), ('subsample', 0.7368521016623355)])\n",
      "\n",
      "Model #5\n",
      "Best ROC-AUC: 0.9909\n",
      "Best params: OrderedDict([('booster', 'gbtree'), ('colsample_bytree', 0.5313631374557678), ('gamma', 0.47827923423293395), ('learning_rate', 0.15997966580324138), ('max_depth', 8), ('min_child_weight', 7), ('n_estimators', 417), ('reg_alpha', 3.6092959690539596e-07), ('scale_pos_weight', 21), ('subsample', 0.7368521016623355)])\n",
      "\n",
      "Model #6\n",
      "Best ROC-AUC: 0.9909\n",
      "Best params: OrderedDict([('booster', 'gbtree'), ('colsample_bytree', 0.5313631374557678), ('gamma', 0.47827923423293395), ('learning_rate', 0.15997966580324138), ('max_depth', 8), ('min_child_weight', 7), ('n_estimators', 417), ('reg_alpha', 3.6092959690539596e-07), ('scale_pos_weight', 21), ('subsample', 0.7368521016623355)])\n",
      "\n",
      "Model #7\n",
      "Best ROC-AUC: 0.9909\n",
      "Best params: OrderedDict([('booster', 'gbtree'), ('colsample_bytree', 0.5313631374557678), ('gamma', 0.47827923423293395), ('learning_rate', 0.15997966580324138), ('max_depth', 8), ('min_child_weight', 7), ('n_estimators', 417), ('reg_alpha', 3.6092959690539596e-07), ('scale_pos_weight', 21), ('subsample', 0.7368521016623355)])\n",
      "\n",
      "Model #8\n",
      "Best ROC-AUC: 0.9909\n",
      "Best params: OrderedDict([('booster', 'gbtree'), ('colsample_bytree', 0.5313631374557678), ('gamma', 0.47827923423293395), ('learning_rate', 0.15997966580324138), ('max_depth', 8), ('min_child_weight', 7), ('n_estimators', 417), ('reg_alpha', 3.6092959690539596e-07), ('scale_pos_weight', 21), ('subsample', 0.7368521016623355)])\n",
      "\n",
      "Model #9\n",
      "Best ROC-AUC: 0.9909\n",
      "Best params: OrderedDict([('booster', 'gbtree'), ('colsample_bytree', 0.5313631374557678), ('gamma', 0.47827923423293395), ('learning_rate', 0.15997966580324138), ('max_depth', 8), ('min_child_weight', 7), ('n_estimators', 417), ('reg_alpha', 3.6092959690539596e-07), ('scale_pos_weight', 21), ('subsample', 0.7368521016623355)])\n",
      "\n",
      "Model #10\n",
      "Best ROC-AUC: 0.9909\n",
      "Best params: OrderedDict([('booster', 'gbtree'), ('colsample_bytree', 0.5313631374557678), ('gamma', 0.47827923423293395), ('learning_rate', 0.15997966580324138), ('max_depth', 8), ('min_child_weight', 7), ('n_estimators', 417), ('reg_alpha', 3.6092959690539596e-07), ('scale_pos_weight', 21), ('subsample', 0.7368521016623355)])\n",
      "\n",
      "Model #11\n",
      "Best ROC-AUC: 0.9912\n",
      "Best params: OrderedDict([('booster', 'gbtree'), ('colsample_bytree', 0.5), ('gamma', 1.0), ('learning_rate', 0.0506419084082493), ('max_depth', 10), ('min_child_weight', 1), ('n_estimators', 485), ('reg_alpha', 1e-10), ('scale_pos_weight', 1), ('subsample', 0.8506115893553872)])\n",
      "\n",
      "Model #12\n",
      "Best ROC-AUC: 0.9912\n",
      "Best params: OrderedDict([('booster', 'gbtree'), ('colsample_bytree', 0.5), ('gamma', 1.0), ('learning_rate', 0.0506419084082493), ('max_depth', 10), ('min_child_weight', 1), ('n_estimators', 485), ('reg_alpha', 1e-10), ('scale_pos_weight', 1), ('subsample', 0.8506115893553872)])\n",
      "\n",
      "Model #13\n",
      "Best ROC-AUC: 0.9912\n",
      "Best params: OrderedDict([('booster', 'gbtree'), ('colsample_bytree', 0.5), ('gamma', 1.0), ('learning_rate', 0.0506419084082493), ('max_depth', 10), ('min_child_weight', 1), ('n_estimators', 485), ('reg_alpha', 1e-10), ('scale_pos_weight', 1), ('subsample', 0.8506115893553872)])\n",
      "\n",
      "Model #14\n",
      "Best ROC-AUC: 0.9912\n",
      "Best params: OrderedDict([('booster', 'gbtree'), ('colsample_bytree', 0.5), ('gamma', 1.0), ('learning_rate', 0.0506419084082493), ('max_depth', 10), ('min_child_weight', 1), ('n_estimators', 485), ('reg_alpha', 1e-10), ('scale_pos_weight', 1), ('subsample', 0.8506115893553872)])\n",
      "\n",
      "Model #15\n",
      "Best ROC-AUC: 0.9912\n",
      "Best params: OrderedDict([('booster', 'gbtree'), ('colsample_bytree', 0.5), ('gamma', 1.0), ('learning_rate', 0.0506419084082493), ('max_depth', 10), ('min_child_weight', 1), ('n_estimators', 485), ('reg_alpha', 1e-10), ('scale_pos_weight', 1), ('subsample', 0.8506115893553872)])\n",
      "\n",
      "Model #16\n",
      "Best ROC-AUC: 0.9912\n",
      "Best params: OrderedDict([('booster', 'gbtree'), ('colsample_bytree', 0.5), ('gamma', 1.0), ('learning_rate', 0.0506419084082493), ('max_depth', 10), ('min_child_weight', 1), ('n_estimators', 485), ('reg_alpha', 1e-10), ('scale_pos_weight', 1), ('subsample', 0.8506115893553872)])\n",
      "\n",
      "Model #17\n",
      "Best ROC-AUC: 0.9912\n",
      "Best params: OrderedDict([('booster', 'gbtree'), ('colsample_bytree', 0.5), ('gamma', 1.0), ('learning_rate', 0.0506419084082493), ('max_depth', 10), ('min_child_weight', 1), ('n_estimators', 485), ('reg_alpha', 1e-10), ('scale_pos_weight', 1), ('subsample', 0.8506115893553872)])\n",
      "\n",
      "Model #18\n",
      "Best ROC-AUC: 0.9912\n",
      "Best params: OrderedDict([('booster', 'gbtree'), ('colsample_bytree', 0.5), ('gamma', 1.0), ('learning_rate', 0.0506419084082493), ('max_depth', 10), ('min_child_weight', 1), ('n_estimators', 485), ('reg_alpha', 1e-10), ('scale_pos_weight', 1), ('subsample', 0.8506115893553872)])\n",
      "\n",
      "Model #19\n",
      "Best ROC-AUC: 0.9912\n",
      "Best params: OrderedDict([('booster', 'gbtree'), ('colsample_bytree', 0.5), ('gamma', 1.0), ('learning_rate', 0.0506419084082493), ('max_depth', 10), ('min_child_weight', 1), ('n_estimators', 485), ('reg_alpha', 1e-10), ('scale_pos_weight', 1), ('subsample', 0.8506115893553872)])\n",
      "\n",
      "Model #20\n",
      "Best ROC-AUC: 0.9912\n",
      "Best params: OrderedDict([('booster', 'gbtree'), ('colsample_bytree', 0.5), ('gamma', 1.0), ('learning_rate', 0.0506419084082493), ('max_depth', 10), ('min_child_weight', 1), ('n_estimators', 485), ('reg_alpha', 1e-10), ('scale_pos_weight', 1), ('subsample', 0.8506115893553872)])\n",
      "\n",
      "Model #21\n",
      "Best ROC-AUC: 0.9912\n",
      "Best params: OrderedDict([('booster', 'gbtree'), ('colsample_bytree', 0.5), ('gamma', 1.0), ('learning_rate', 0.0506419084082493), ('max_depth', 10), ('min_child_weight', 1), ('n_estimators', 485), ('reg_alpha', 1e-10), ('scale_pos_weight', 1), ('subsample', 0.8506115893553872)])\n",
      "\n",
      "Model #22\n",
      "Best ROC-AUC: 0.9912\n",
      "Best params: OrderedDict([('booster', 'gbtree'), ('colsample_bytree', 0.5), ('gamma', 1.0), ('learning_rate', 0.0506419084082493), ('max_depth', 10), ('min_child_weight', 1), ('n_estimators', 485), ('reg_alpha', 1e-10), ('scale_pos_weight', 1), ('subsample', 0.8506115893553872)])\n",
      "\n",
      "Model #23\n",
      "Best ROC-AUC: 0.9912\n",
      "Best params: OrderedDict([('booster', 'gbtree'), ('colsample_bytree', 0.5), ('gamma', 1.0), ('learning_rate', 0.0506419084082493), ('max_depth', 10), ('min_child_weight', 1), ('n_estimators', 485), ('reg_alpha', 1e-10), ('scale_pos_weight', 1), ('subsample', 0.8506115893553872)])\n",
      "\n",
      "Model #24\n",
      "Best ROC-AUC: 0.9912\n",
      "Best params: OrderedDict([('booster', 'gbtree'), ('colsample_bytree', 0.5), ('gamma', 1.0), ('learning_rate', 0.0506419084082493), ('max_depth', 10), ('min_child_weight', 1), ('n_estimators', 485), ('reg_alpha', 1e-10), ('scale_pos_weight', 1), ('subsample', 0.8506115893553872)])\n",
      "\n",
      "Model #25\n",
      "Best ROC-AUC: 0.9912\n",
      "Best params: OrderedDict([('booster', 'gbtree'), ('colsample_bytree', 0.5), ('gamma', 1.0), ('learning_rate', 0.0506419084082493), ('max_depth', 10), ('min_child_weight', 1), ('n_estimators', 485), ('reg_alpha', 1e-10), ('scale_pos_weight', 1), ('subsample', 0.8506115893553872)])\n",
      "\n"
     ]
    },
    {
     "name": "stdout",
     "output_type": "stream",
     "text": [
      "Model #26\n",
      "Best ROC-AUC: 0.9912\n",
      "Best params: OrderedDict([('booster', 'gbtree'), ('colsample_bytree', 0.5), ('gamma', 1.0), ('learning_rate', 0.0506419084082493), ('max_depth', 10), ('min_child_weight', 1), ('n_estimators', 485), ('reg_alpha', 1e-10), ('scale_pos_weight', 1), ('subsample', 0.8506115893553872)])\n",
      "\n",
      "Model #27\n",
      "Best ROC-AUC: 0.9912\n",
      "Best params: OrderedDict([('booster', 'gbtree'), ('colsample_bytree', 0.5), ('gamma', 1.0), ('learning_rate', 0.0506419084082493), ('max_depth', 10), ('min_child_weight', 1), ('n_estimators', 485), ('reg_alpha', 1e-10), ('scale_pos_weight', 1), ('subsample', 0.8506115893553872)])\n",
      "\n",
      "Model #28\n",
      "Best ROC-AUC: 0.9912\n",
      "Best params: OrderedDict([('booster', 'gbtree'), ('colsample_bytree', 0.5), ('gamma', 1.0), ('learning_rate', 0.0506419084082493), ('max_depth', 10), ('min_child_weight', 1), ('n_estimators', 485), ('reg_alpha', 1e-10), ('scale_pos_weight', 1), ('subsample', 0.8506115893553872)])\n",
      "\n",
      "Model #29\n",
      "Best ROC-AUC: 0.9912\n",
      "Best params: OrderedDict([('booster', 'gbtree'), ('colsample_bytree', 0.5), ('gamma', 1.0), ('learning_rate', 0.0506419084082493), ('max_depth', 10), ('min_child_weight', 1), ('n_estimators', 485), ('reg_alpha', 1e-10), ('scale_pos_weight', 1), ('subsample', 0.8506115893553872)])\n",
      "\n",
      "Model #30\n",
      "Best ROC-AUC: 0.9912\n",
      "Best params: OrderedDict([('booster', 'gbtree'), ('colsample_bytree', 0.5), ('gamma', 1.0), ('learning_rate', 0.0506419084082493), ('max_depth', 10), ('min_child_weight', 1), ('n_estimators', 485), ('reg_alpha', 1e-10), ('scale_pos_weight', 1), ('subsample', 0.8506115893553872)])\n",
      "\n",
      "Model #31\n",
      "Best ROC-AUC: 0.9912\n",
      "Best params: OrderedDict([('booster', 'gbtree'), ('colsample_bytree', 0.5), ('gamma', 1.0), ('learning_rate', 0.0506419084082493), ('max_depth', 10), ('min_child_weight', 1), ('n_estimators', 485), ('reg_alpha', 1e-10), ('scale_pos_weight', 1), ('subsample', 0.8506115893553872)])\n",
      "\n",
      "Model #32\n",
      "Best ROC-AUC: 0.9912\n",
      "Best params: OrderedDict([('booster', 'gbtree'), ('colsample_bytree', 0.5), ('gamma', 1.0), ('learning_rate', 0.0506419084082493), ('max_depth', 10), ('min_child_weight', 1), ('n_estimators', 485), ('reg_alpha', 1e-10), ('scale_pos_weight', 1), ('subsample', 0.8506115893553872)])\n",
      "\n",
      "Model #33\n",
      "Best ROC-AUC: 0.9912\n",
      "Best params: OrderedDict([('booster', 'gbtree'), ('colsample_bytree', 0.5), ('gamma', 1.0), ('learning_rate', 0.0506419084082493), ('max_depth', 10), ('min_child_weight', 1), ('n_estimators', 485), ('reg_alpha', 1e-10), ('scale_pos_weight', 1), ('subsample', 0.8506115893553872)])\n",
      "\n",
      "Model #34\n",
      "Best ROC-AUC: 0.9912\n",
      "Best params: OrderedDict([('booster', 'gbtree'), ('colsample_bytree', 0.5), ('gamma', 1.0), ('learning_rate', 0.0506419084082493), ('max_depth', 10), ('min_child_weight', 1), ('n_estimators', 485), ('reg_alpha', 1e-10), ('scale_pos_weight', 1), ('subsample', 0.8506115893553872)])\n",
      "\n",
      "Model #35\n",
      "Best ROC-AUC: 0.9912\n",
      "Best params: OrderedDict([('booster', 'gbtree'), ('colsample_bytree', 0.5), ('gamma', 1.0), ('learning_rate', 0.0506419084082493), ('max_depth', 10), ('min_child_weight', 1), ('n_estimators', 485), ('reg_alpha', 1e-10), ('scale_pos_weight', 1), ('subsample', 0.8506115893553872)])\n",
      "\n",
      "Model #36\n",
      "Best ROC-AUC: 0.9912\n",
      "Best params: OrderedDict([('booster', 'gbtree'), ('colsample_bytree', 0.5), ('gamma', 1.0), ('learning_rate', 0.0506419084082493), ('max_depth', 10), ('min_child_weight', 1), ('n_estimators', 485), ('reg_alpha', 1e-10), ('scale_pos_weight', 1), ('subsample', 0.8506115893553872)])\n",
      "\n",
      "Model #37\n",
      "Best ROC-AUC: 0.9912\n",
      "Best params: OrderedDict([('booster', 'gbtree'), ('colsample_bytree', 0.5), ('gamma', 1.0), ('learning_rate', 0.0506419084082493), ('max_depth', 10), ('min_child_weight', 1), ('n_estimators', 485), ('reg_alpha', 1e-10), ('scale_pos_weight', 1), ('subsample', 0.8506115893553872)])\n",
      "\n",
      "Model #38\n",
      "Best ROC-AUC: 0.9912\n",
      "Best params: OrderedDict([('booster', 'gbtree'), ('colsample_bytree', 0.5), ('gamma', 1.0), ('learning_rate', 0.0506419084082493), ('max_depth', 10), ('min_child_weight', 1), ('n_estimators', 485), ('reg_alpha', 1e-10), ('scale_pos_weight', 1), ('subsample', 0.8506115893553872)])\n",
      "\n",
      "Model #39\n",
      "Best ROC-AUC: 0.9912\n",
      "Best params: OrderedDict([('booster', 'gbtree'), ('colsample_bytree', 0.5), ('gamma', 1.0), ('learning_rate', 0.0506419084082493), ('max_depth', 10), ('min_child_weight', 1), ('n_estimators', 485), ('reg_alpha', 1e-10), ('scale_pos_weight', 1), ('subsample', 0.8506115893553872)])\n",
      "\n",
      "Model #40\n",
      "Best ROC-AUC: 0.9912\n",
      "Best params: OrderedDict([('booster', 'gbtree'), ('colsample_bytree', 0.5), ('gamma', 1.0), ('learning_rate', 0.0506419084082493), ('max_depth', 10), ('min_child_weight', 1), ('n_estimators', 485), ('reg_alpha', 1e-10), ('scale_pos_weight', 1), ('subsample', 0.8506115893553872)])\n",
      "\n",
      "Model #41\n",
      "Best ROC-AUC: 0.9912\n",
      "Best params: OrderedDict([('booster', 'gbtree'), ('colsample_bytree', 0.5), ('gamma', 1.0), ('learning_rate', 0.0506419084082493), ('max_depth', 10), ('min_child_weight', 1), ('n_estimators', 485), ('reg_alpha', 1e-10), ('scale_pos_weight', 1), ('subsample', 0.8506115893553872)])\n",
      "\n",
      "Model #42\n",
      "Best ROC-AUC: 0.9913\n",
      "Best params: OrderedDict([('booster', 'gbtree'), ('colsample_bytree', 0.8930888843634461), ('gamma', 0.6416556131524297), ('learning_rate', 0.04143525749271523), ('max_depth', 7), ('min_child_weight', 4), ('n_estimators', 500), ('reg_alpha', 1e-10), ('scale_pos_weight', 7), ('subsample', 0.6046797145527757)])\n",
      "\n",
      "Model #43\n",
      "Best ROC-AUC: 0.9913\n",
      "Best params: OrderedDict([('booster', 'gbtree'), ('colsample_bytree', 0.8930888843634461), ('gamma', 0.6416556131524297), ('learning_rate', 0.04143525749271523), ('max_depth', 7), ('min_child_weight', 4), ('n_estimators', 500), ('reg_alpha', 1e-10), ('scale_pos_weight', 7), ('subsample', 0.6046797145527757)])\n",
      "\n"
     ]
    },
    {
     "ename": "KeyboardInterrupt",
     "evalue": "",
     "output_type": "error",
     "traceback": [
      "\u001b[1;31m---------------------------------------------------------------------------\u001b[0m",
      "\u001b[1;31mKeyboardInterrupt\u001b[0m                         Traceback (most recent call last)",
      "\u001b[1;32m<timed exec>\u001b[0m in \u001b[0;36m<module>\u001b[1;34m\u001b[0m\n",
      "\u001b[1;32mc:\\users\\lanth\\appdata\\local\\programs\\python\\python37\\lib\\site-packages\\skopt\\searchcv.py\u001b[0m in \u001b[0;36mfit\u001b[1;34m(self, X, y, groups, callback)\u001b[0m\n\u001b[0;32m    678\u001b[0m                 optim_result = self._step(\n\u001b[0;32m    679\u001b[0m                     \u001b[0mX\u001b[0m\u001b[1;33m,\u001b[0m \u001b[0my\u001b[0m\u001b[1;33m,\u001b[0m \u001b[0msearch_space\u001b[0m\u001b[1;33m,\u001b[0m \u001b[0moptimizer\u001b[0m\u001b[1;33m,\u001b[0m\u001b[1;33m\u001b[0m\u001b[1;33m\u001b[0m\u001b[0m\n\u001b[1;32m--> 680\u001b[1;33m                     \u001b[0mgroups\u001b[0m\u001b[1;33m=\u001b[0m\u001b[0mgroups\u001b[0m\u001b[1;33m,\u001b[0m \u001b[0mn_points\u001b[0m\u001b[1;33m=\u001b[0m\u001b[0mn_points_adjusted\u001b[0m\u001b[1;33m\u001b[0m\u001b[1;33m\u001b[0m\u001b[0m\n\u001b[0m\u001b[0;32m    681\u001b[0m                 )\n\u001b[0;32m    682\u001b[0m                 \u001b[0mn_iter\u001b[0m \u001b[1;33m-=\u001b[0m \u001b[0mn_points\u001b[0m\u001b[1;33m\u001b[0m\u001b[1;33m\u001b[0m\u001b[0m\n",
      "\u001b[1;32mc:\\users\\lanth\\appdata\\local\\programs\\python\\python37\\lib\\site-packages\\skopt\\searchcv.py\u001b[0m in \u001b[0;36m_step\u001b[1;34m(self, X, y, search_space, optimizer, groups, n_points)\u001b[0m\n\u001b[0;32m    564\u001b[0m         \u001b[0mrefit\u001b[0m \u001b[1;33m=\u001b[0m \u001b[0mself\u001b[0m\u001b[1;33m.\u001b[0m\u001b[0mrefit\u001b[0m\u001b[1;33m\u001b[0m\u001b[1;33m\u001b[0m\u001b[0m\n\u001b[0;32m    565\u001b[0m         \u001b[0mself\u001b[0m\u001b[1;33m.\u001b[0m\u001b[0mrefit\u001b[0m \u001b[1;33m=\u001b[0m \u001b[1;32mFalse\u001b[0m\u001b[1;33m\u001b[0m\u001b[1;33m\u001b[0m\u001b[0m\n\u001b[1;32m--> 566\u001b[1;33m         \u001b[0mself\u001b[0m\u001b[1;33m.\u001b[0m\u001b[0m_fit\u001b[0m\u001b[1;33m(\u001b[0m\u001b[0mX\u001b[0m\u001b[1;33m,\u001b[0m \u001b[0my\u001b[0m\u001b[1;33m,\u001b[0m \u001b[0mgroups\u001b[0m\u001b[1;33m,\u001b[0m \u001b[0mparams_dict\u001b[0m\u001b[1;33m)\u001b[0m\u001b[1;33m\u001b[0m\u001b[1;33m\u001b[0m\u001b[0m\n\u001b[0m\u001b[0;32m    567\u001b[0m         \u001b[0mself\u001b[0m\u001b[1;33m.\u001b[0m\u001b[0mrefit\u001b[0m \u001b[1;33m=\u001b[0m \u001b[0mrefit\u001b[0m\u001b[1;33m\u001b[0m\u001b[1;33m\u001b[0m\u001b[0m\n\u001b[0;32m    568\u001b[0m \u001b[1;33m\u001b[0m\u001b[0m\n",
      "\u001b[1;32mc:\\users\\lanth\\appdata\\local\\programs\\python\\python37\\lib\\site-packages\\skopt\\searchcv.py\u001b[0m in \u001b[0;36m_fit\u001b[1;34m(self, X, y, groups, parameter_iterable)\u001b[0m\n\u001b[0;32m    412\u001b[0m                 \u001b[0merror_score\u001b[0m\u001b[1;33m=\u001b[0m\u001b[0mself\u001b[0m\u001b[1;33m.\u001b[0m\u001b[0merror_score\u001b[0m\u001b[1;33m\u001b[0m\u001b[1;33m\u001b[0m\u001b[0m\n\u001b[0;32m    413\u001b[0m             )\n\u001b[1;32m--> 414\u001b[1;33m             \u001b[1;32mfor\u001b[0m \u001b[0mparameters\u001b[0m \u001b[1;32min\u001b[0m \u001b[0mparameter_iterable\u001b[0m\u001b[1;33m\u001b[0m\u001b[1;33m\u001b[0m\u001b[0m\n\u001b[0m\u001b[0;32m    415\u001b[0m             for train, test in cv_iter)\n\u001b[0;32m    416\u001b[0m \u001b[1;33m\u001b[0m\u001b[0m\n",
      "\u001b[1;32mc:\\users\\lanth\\appdata\\local\\programs\\python\\python37\\lib\\site-packages\\joblib\\parallel.py\u001b[0m in \u001b[0;36m__call__\u001b[1;34m(self, iterable)\u001b[0m\n\u001b[0;32m    932\u001b[0m \u001b[1;33m\u001b[0m\u001b[0m\n\u001b[0;32m    933\u001b[0m             \u001b[1;32mwith\u001b[0m \u001b[0mself\u001b[0m\u001b[1;33m.\u001b[0m\u001b[0m_backend\u001b[0m\u001b[1;33m.\u001b[0m\u001b[0mretrieval_context\u001b[0m\u001b[1;33m(\u001b[0m\u001b[1;33m)\u001b[0m\u001b[1;33m:\u001b[0m\u001b[1;33m\u001b[0m\u001b[1;33m\u001b[0m\u001b[0m\n\u001b[1;32m--> 934\u001b[1;33m                 \u001b[0mself\u001b[0m\u001b[1;33m.\u001b[0m\u001b[0mretrieve\u001b[0m\u001b[1;33m(\u001b[0m\u001b[1;33m)\u001b[0m\u001b[1;33m\u001b[0m\u001b[1;33m\u001b[0m\u001b[0m\n\u001b[0m\u001b[0;32m    935\u001b[0m             \u001b[1;31m# Make sure that we get a last message telling us we are done\u001b[0m\u001b[1;33m\u001b[0m\u001b[1;33m\u001b[0m\u001b[1;33m\u001b[0m\u001b[0m\n\u001b[0;32m    936\u001b[0m             \u001b[0melapsed_time\u001b[0m \u001b[1;33m=\u001b[0m \u001b[0mtime\u001b[0m\u001b[1;33m.\u001b[0m\u001b[0mtime\u001b[0m\u001b[1;33m(\u001b[0m\u001b[1;33m)\u001b[0m \u001b[1;33m-\u001b[0m \u001b[0mself\u001b[0m\u001b[1;33m.\u001b[0m\u001b[0m_start_time\u001b[0m\u001b[1;33m\u001b[0m\u001b[1;33m\u001b[0m\u001b[0m\n",
      "\u001b[1;32mc:\\users\\lanth\\appdata\\local\\programs\\python\\python37\\lib\\site-packages\\joblib\\parallel.py\u001b[0m in \u001b[0;36mretrieve\u001b[1;34m(self)\u001b[0m\n\u001b[0;32m    831\u001b[0m             \u001b[1;32mtry\u001b[0m\u001b[1;33m:\u001b[0m\u001b[1;33m\u001b[0m\u001b[1;33m\u001b[0m\u001b[0m\n\u001b[0;32m    832\u001b[0m                 \u001b[1;32mif\u001b[0m \u001b[0mgetattr\u001b[0m\u001b[1;33m(\u001b[0m\u001b[0mself\u001b[0m\u001b[1;33m.\u001b[0m\u001b[0m_backend\u001b[0m\u001b[1;33m,\u001b[0m \u001b[1;34m'supports_timeout'\u001b[0m\u001b[1;33m,\u001b[0m \u001b[1;32mFalse\u001b[0m\u001b[1;33m)\u001b[0m\u001b[1;33m:\u001b[0m\u001b[1;33m\u001b[0m\u001b[1;33m\u001b[0m\u001b[0m\n\u001b[1;32m--> 833\u001b[1;33m                     \u001b[0mself\u001b[0m\u001b[1;33m.\u001b[0m\u001b[0m_output\u001b[0m\u001b[1;33m.\u001b[0m\u001b[0mextend\u001b[0m\u001b[1;33m(\u001b[0m\u001b[0mjob\u001b[0m\u001b[1;33m.\u001b[0m\u001b[0mget\u001b[0m\u001b[1;33m(\u001b[0m\u001b[0mtimeout\u001b[0m\u001b[1;33m=\u001b[0m\u001b[0mself\u001b[0m\u001b[1;33m.\u001b[0m\u001b[0mtimeout\u001b[0m\u001b[1;33m)\u001b[0m\u001b[1;33m)\u001b[0m\u001b[1;33m\u001b[0m\u001b[1;33m\u001b[0m\u001b[0m\n\u001b[0m\u001b[0;32m    834\u001b[0m                 \u001b[1;32melse\u001b[0m\u001b[1;33m:\u001b[0m\u001b[1;33m\u001b[0m\u001b[1;33m\u001b[0m\u001b[0m\n\u001b[0;32m    835\u001b[0m                     \u001b[0mself\u001b[0m\u001b[1;33m.\u001b[0m\u001b[0m_output\u001b[0m\u001b[1;33m.\u001b[0m\u001b[0mextend\u001b[0m\u001b[1;33m(\u001b[0m\u001b[0mjob\u001b[0m\u001b[1;33m.\u001b[0m\u001b[0mget\u001b[0m\u001b[1;33m(\u001b[0m\u001b[1;33m)\u001b[0m\u001b[1;33m)\u001b[0m\u001b[1;33m\u001b[0m\u001b[1;33m\u001b[0m\u001b[0m\n",
      "\u001b[1;32mc:\\users\\lanth\\appdata\\local\\programs\\python\\python37\\lib\\site-packages\\joblib\\_parallel_backends.py\u001b[0m in \u001b[0;36mwrap_future_result\u001b[1;34m(future, timeout)\u001b[0m\n\u001b[0;32m    519\u001b[0m         AsyncResults.get from multiprocessing.\"\"\"\n\u001b[0;32m    520\u001b[0m         \u001b[1;32mtry\u001b[0m\u001b[1;33m:\u001b[0m\u001b[1;33m\u001b[0m\u001b[1;33m\u001b[0m\u001b[0m\n\u001b[1;32m--> 521\u001b[1;33m             \u001b[1;32mreturn\u001b[0m \u001b[0mfuture\u001b[0m\u001b[1;33m.\u001b[0m\u001b[0mresult\u001b[0m\u001b[1;33m(\u001b[0m\u001b[0mtimeout\u001b[0m\u001b[1;33m=\u001b[0m\u001b[0mtimeout\u001b[0m\u001b[1;33m)\u001b[0m\u001b[1;33m\u001b[0m\u001b[1;33m\u001b[0m\u001b[0m\n\u001b[0m\u001b[0;32m    522\u001b[0m         \u001b[1;32mexcept\u001b[0m \u001b[0mLokyTimeoutError\u001b[0m\u001b[1;33m:\u001b[0m\u001b[1;33m\u001b[0m\u001b[1;33m\u001b[0m\u001b[0m\n\u001b[0;32m    523\u001b[0m             \u001b[1;32mraise\u001b[0m \u001b[0mTimeoutError\u001b[0m\u001b[1;33m(\u001b[0m\u001b[1;33m)\u001b[0m\u001b[1;33m\u001b[0m\u001b[1;33m\u001b[0m\u001b[0m\n",
      "\u001b[1;32mc:\\users\\lanth\\appdata\\local\\programs\\python\\python37\\lib\\concurrent\\futures\\_base.py\u001b[0m in \u001b[0;36mresult\u001b[1;34m(self, timeout)\u001b[0m\n\u001b[0;32m    428\u001b[0m                 \u001b[1;32mreturn\u001b[0m \u001b[0mself\u001b[0m\u001b[1;33m.\u001b[0m\u001b[0m__get_result\u001b[0m\u001b[1;33m(\u001b[0m\u001b[1;33m)\u001b[0m\u001b[1;33m\u001b[0m\u001b[1;33m\u001b[0m\u001b[0m\n\u001b[0;32m    429\u001b[0m \u001b[1;33m\u001b[0m\u001b[0m\n\u001b[1;32m--> 430\u001b[1;33m             \u001b[0mself\u001b[0m\u001b[1;33m.\u001b[0m\u001b[0m_condition\u001b[0m\u001b[1;33m.\u001b[0m\u001b[0mwait\u001b[0m\u001b[1;33m(\u001b[0m\u001b[0mtimeout\u001b[0m\u001b[1;33m)\u001b[0m\u001b[1;33m\u001b[0m\u001b[1;33m\u001b[0m\u001b[0m\n\u001b[0m\u001b[0;32m    431\u001b[0m \u001b[1;33m\u001b[0m\u001b[0m\n\u001b[0;32m    432\u001b[0m             \u001b[1;32mif\u001b[0m \u001b[0mself\u001b[0m\u001b[1;33m.\u001b[0m\u001b[0m_state\u001b[0m \u001b[1;32min\u001b[0m \u001b[1;33m[\u001b[0m\u001b[0mCANCELLED\u001b[0m\u001b[1;33m,\u001b[0m \u001b[0mCANCELLED_AND_NOTIFIED\u001b[0m\u001b[1;33m]\u001b[0m\u001b[1;33m:\u001b[0m\u001b[1;33m\u001b[0m\u001b[1;33m\u001b[0m\u001b[0m\n",
      "\u001b[1;32mc:\\users\\lanth\\appdata\\local\\programs\\python\\python37\\lib\\threading.py\u001b[0m in \u001b[0;36mwait\u001b[1;34m(self, timeout)\u001b[0m\n\u001b[0;32m    294\u001b[0m         \u001b[1;32mtry\u001b[0m\u001b[1;33m:\u001b[0m    \u001b[1;31m# restore state no matter what (e.g., KeyboardInterrupt)\u001b[0m\u001b[1;33m\u001b[0m\u001b[1;33m\u001b[0m\u001b[0m\n\u001b[0;32m    295\u001b[0m             \u001b[1;32mif\u001b[0m \u001b[0mtimeout\u001b[0m \u001b[1;32mis\u001b[0m \u001b[1;32mNone\u001b[0m\u001b[1;33m:\u001b[0m\u001b[1;33m\u001b[0m\u001b[1;33m\u001b[0m\u001b[0m\n\u001b[1;32m--> 296\u001b[1;33m                 \u001b[0mwaiter\u001b[0m\u001b[1;33m.\u001b[0m\u001b[0macquire\u001b[0m\u001b[1;33m(\u001b[0m\u001b[1;33m)\u001b[0m\u001b[1;33m\u001b[0m\u001b[1;33m\u001b[0m\u001b[0m\n\u001b[0m\u001b[0;32m    297\u001b[0m                 \u001b[0mgotit\u001b[0m \u001b[1;33m=\u001b[0m \u001b[1;32mTrue\u001b[0m\u001b[1;33m\u001b[0m\u001b[1;33m\u001b[0m\u001b[0m\n\u001b[0;32m    298\u001b[0m             \u001b[1;32melse\u001b[0m\u001b[1;33m:\u001b[0m\u001b[1;33m\u001b[0m\u001b[1;33m\u001b[0m\u001b[0m\n",
      "\u001b[1;31mKeyboardInterrupt\u001b[0m: "
     ]
    }
   ],
   "source": [
    "%%time\n",
    "result_xgb = bayes_cv_tuner_xg.fit(X_sm_scaled, y_sm, callback=status_print)"
   ]
  },
  {
   "cell_type": "markdown",
   "metadata": {},
   "source": [
    "## Part 3: Kaggle Competition\n",
    "\n",
    "Now that you've created a model to predict which individuals are most likely to respond to a mailout campaign, it's time to test that model in competition through Kaggle. If you click on the link [here](http://www.kaggle.com/t/21e6d45d4c574c7fa2d868f0e8c83140), you'll be taken to the competition page where, if you have a Kaggle account, you can enter. If you're one of the top performers, you may have the chance to be contacted by a hiring manager from Arvato or Bertelsmann for an interview!\n",
    "\n",
    "Your entry to the competition should be a CSV file with two columns. The first column should be a copy of \"LNR\", which acts as an ID number for each individual in the \"TEST\" partition. The second column, \"RESPONSE\", should be some measure of how likely each individual became a customer – this might not be a straightforward probability. As you should have found in Part 2, there is a large output class imbalance, where most individuals did not respond to the mailout. Thus, predicting individual classes and using accuracy does not seem to be an appropriate performance evaluation method. Instead, the competition will be using AUC to evaluate performance. The exact values of the \"RESPONSE\" column do not matter as much: only that the higher values try to capture as many of the actual customers as possible, early in the ROC curve sweep."
   ]
  },
  {
   "cell_type": "code",
   "execution_count": 76,
   "metadata": {},
   "outputs": [],
   "source": [
    "#Best test\n",
    "bayes_xgb = xgb.XGBClassifier(booster='gbtree',\n",
    "                              colsample_bytree=0.5,\n",
    "                              gamma=1.0,\n",
    "                              learning_rate=0.0020276515169578386,\n",
    "                              max_depth=5,\n",
    "                              min_child_weight=10,\n",
    "                              n_estimators=251,\n",
    "                              reg_alpha=1.0,\n",
    "                              scale_pos_weight=34,\n",
    "                              subsample=0.5,\n",
    "                              eval_metric='auc',\n",
    "                              verbosity=1,\n",
    "                              n_jobs=-1)"
   ]
  },
  {
   "cell_type": "code",
   "execution_count": 77,
   "metadata": {},
   "outputs": [
    {
     "data": {
      "text/plain": [
       "XGBClassifier(base_score=0.5, booster='gbtree', colsample_bylevel=1,\n",
       "              colsample_bynode=1, colsample_bytree=0.5, eval_metric='auc',\n",
       "              gamma=1.0, learning_rate=0.0020276515169578386, max_delta_step=0,\n",
       "              max_depth=5, min_child_weight=10, missing=None, n_estimators=251,\n",
       "              n_jobs=-1, nthread=None, objective='binary:logistic',\n",
       "              random_state=0, reg_alpha=1.0, reg_lambda=1, scale_pos_weight=34,\n",
       "              seed=None, silent=None, subsample=0.5, verbosity=1)"
      ]
     },
     "execution_count": 77,
     "metadata": {},
     "output_type": "execute_result"
    }
   ],
   "source": [
    "bayes_xgb.fit(mailout_train_X_scaled, mailout_train_y)"
   ]
  },
  {
   "cell_type": "code",
   "execution_count": 97,
   "metadata": {},
   "outputs": [
    {
     "data": {
      "image/png": "[encoded data removed]",
      "text/plain": [
       "<Figure size 1296x720 with 1 Axes>"
      ]
     },
     "metadata": {
      "needs_background": "light"
     },
     "output_type": "display_data"
    }
   ],
   "source": [
    "feat_imp = pd.Series(bayes_xgb.feature_importances_,\n",
    "                     index=mailout_test_X.columns).sort_values(ascending=False)\n",
    "# plot the 25 most important features\n",
    "fig = plt.figure(figsize=(18, 10))\n",
    "feat_imp.iloc[:25].plot(kind='barh') #, title='Feature Importances')\n",
    "plt.xlabel('Importance', fontsize=12)\n",
    "plt.ylabel('Features', fontsize=12)\n",
    "plt.title('most predictive features')\n",
    "plt.show()"
   ]
  },
  {
   "cell_type": "code",
   "execution_count": 105,
   "metadata": {},
   "outputs": [],
   "source": [
    "lnr = pd.DataFrame(mailout_test['LNR'])\n",
    "pred = bayes_xgb.predict_proba(mailout_test_X_scaled)[:,1]\n",
    "pred = pd.DataFrame(pred)\n",
    "sub = pd.concat([lnr,pred], axis=1)"
   ]
  },
  {
   "cell_type": "code",
   "execution_count": 106,
   "metadata": {},
   "outputs": [],
   "source": [
    "sub = sub.loc[~np.isnan(sub['LNR'])]"
   ]
  },
  {
   "cell_type": "code",
   "execution_count": 107,
   "metadata": {},
   "outputs": [],
   "source": [
    "#change LNR column type from float to int\n",
    "sub['LNR'] = sub['LNR'].astype(int)\n",
    "sub = sub.rename(columns={0: \"RESPONSE\"})\n",
    "sub.set_index('LNR', inplace = True)"
   ]
  },
  {
   "cell_type": "code",
   "execution_count": 108,
   "metadata": {},
   "outputs": [],
   "source": [
    "sub.to_csv('submission.csv')"
   ]
  }
 ],
 "metadata": {
  "kernelspec": {
   "display_name": "Python 3",
   "language": "python",
   "name": "python3"
  },
  "language_info": {
   "codemirror_mode": {
    "name": "ipython",
    "version": 3
   },
   "file_extension": ".py",
   "mimetype": "text/x-python",
   "name": "python",
   "nbconvert_exporter": "python",
   "pygments_lexer": "ipython3",
   "version": "3.7.4"
  }
 },
 "nbformat": 4,
 "nbformat_minor": 2
}
